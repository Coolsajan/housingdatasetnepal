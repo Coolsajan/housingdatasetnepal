{
 "cells": [
  {
   "cell_type": "code",
   "execution_count": 1,
   "id": "6249f004-d420-457f-9efc-df1bcbda98a4",
   "metadata": {},
   "outputs": [],
   "source": [
    "#importing libaries.\n",
    "import pandas as pd"
   ]
  },
  {
   "cell_type": "markdown",
   "id": "73b00b4d-9f7a-46dc-affb-47d9925e1c67",
   "metadata": {},
   "source": [
    "# Basobas"
   ]
  },
  {
   "cell_type": "code",
   "execution_count": 2,
   "id": "053d50ea-a951-4803-9af1-c0e5e23ae43d",
   "metadata": {
    "scrolled": true
   },
   "outputs": [
    {
     "data": {
      "text/html": [
       "<div>\n",
       "<style scoped>\n",
       "    .dataframe tbody tr th:only-of-type {\n",
       "        vertical-align: middle;\n",
       "    }\n",
       "\n",
       "    .dataframe tbody tr th {\n",
       "        vertical-align: top;\n",
       "    }\n",
       "\n",
       "    .dataframe thead th {\n",
       "        text-align: right;\n",
       "    }\n",
       "</style>\n",
       "<table border=\"1\" class=\"dataframe\">\n",
       "  <thead>\n",
       "    <tr style=\"text-align: right;\">\n",
       "      <th></th>\n",
       "      <th>price</th>\n",
       "      <th>location</th>\n",
       "      <th>area</th>\n",
       "      <th>facing</th>\n",
       "      <th>no_of_bedroom</th>\n",
       "      <th>no_of_bathroom</th>\n",
       "      <th>no_of_livingroom</th>\n",
       "      <th>no_of_kitchen</th>\n",
       "      <th>parking</th>\n",
       "      <th>road_size</th>\n",
       "      <th>furniture</th>\n",
       "      <th>floors</th>\n",
       "    </tr>\n",
       "  </thead>\n",
       "  <tbody>\n",
       "    <tr>\n",
       "      <th>0</th>\n",
       "      <td>32000000</td>\n",
       "      <td>Shital height, Imadol</td>\n",
       "      <td>0-3-0-2</td>\n",
       "      <td>East</td>\n",
       "      <td>5.0</td>\n",
       "      <td>4.0</td>\n",
       "      <td>2.0</td>\n",
       "      <td>3.0</td>\n",
       "      <td>4.0</td>\n",
       "      <td>13.0</td>\n",
       "      <td>Semi Furnished</td>\n",
       "      <td>3.0</td>\n",
       "    </tr>\n",
       "    <tr>\n",
       "      <th>1</th>\n",
       "      <td>28000000</td>\n",
       "      <td>Shital Height</td>\n",
       "      <td>0-3-0-0</td>\n",
       "      <td>West</td>\n",
       "      <td>5.0</td>\n",
       "      <td>4.0</td>\n",
       "      <td>2.0</td>\n",
       "      <td>3.5</td>\n",
       "      <td>2.0</td>\n",
       "      <td>13.0</td>\n",
       "      <td>Semi Furnished</td>\n",
       "      <td>3.5</td>\n",
       "    </tr>\n",
       "    <tr>\n",
       "      <th>2</th>\n",
       "      <td>32500000</td>\n",
       "      <td>House for sale bhangal</td>\n",
       "      <td>NaN</td>\n",
       "      <td>South</td>\n",
       "      <td>NaN</td>\n",
       "      <td>NaN</td>\n",
       "      <td>NaN</td>\n",
       "      <td>NaN</td>\n",
       "      <td>NaN</td>\n",
       "      <td>NaN</td>\n",
       "      <td>Select Furnishing</td>\n",
       "      <td>NaN</td>\n",
       "    </tr>\n",
       "    <tr>\n",
       "      <th>3</th>\n",
       "      <td>20000000</td>\n",
       "      <td>Pulchowk birtamode</td>\n",
       "      <td>NaN</td>\n",
       "      <td>East</td>\n",
       "      <td>3.0</td>\n",
       "      <td>1.0</td>\n",
       "      <td>1.0</td>\n",
       "      <td>1.0</td>\n",
       "      <td>3.0</td>\n",
       "      <td>NaN</td>\n",
       "      <td>Select Furnishing</td>\n",
       "      <td>1.0</td>\n",
       "    </tr>\n",
       "    <tr>\n",
       "      <th>4</th>\n",
       "      <td>32500000</td>\n",
       "      <td>Koteshwor, Kathmandu</td>\n",
       "      <td>NaN</td>\n",
       "      <td>West</td>\n",
       "      <td>5.0</td>\n",
       "      <td>3.0</td>\n",
       "      <td>2.0</td>\n",
       "      <td>2.5</td>\n",
       "      <td>1.0</td>\n",
       "      <td>NaN</td>\n",
       "      <td>NaN</td>\n",
       "      <td>2.5</td>\n",
       "    </tr>\n",
       "    <tr>\n",
       "      <th>5</th>\n",
       "      <td>40000000</td>\n",
       "      <td>Shital height, Imadol</td>\n",
       "      <td>0-4-0-0</td>\n",
       "      <td>North</td>\n",
       "      <td>6.0</td>\n",
       "      <td>4.0</td>\n",
       "      <td>2.0</td>\n",
       "      <td>2.5</td>\n",
       "      <td>4.0</td>\n",
       "      <td>13.0</td>\n",
       "      <td>Full Furnished</td>\n",
       "      <td>2.5</td>\n",
       "    </tr>\n",
       "    <tr>\n",
       "      <th>6</th>\n",
       "      <td>28000000</td>\n",
       "      <td>Bhaisepati</td>\n",
       "      <td>0-4-0-0</td>\n",
       "      <td>South</td>\n",
       "      <td>6.0</td>\n",
       "      <td>3.0</td>\n",
       "      <td>2.0</td>\n",
       "      <td>2.5</td>\n",
       "      <td>4.0</td>\n",
       "      <td>16.0</td>\n",
       "      <td>Full Furnished</td>\n",
       "      <td>2.5</td>\n",
       "    </tr>\n",
       "    <tr>\n",
       "      <th>7</th>\n",
       "      <td>40000000</td>\n",
       "      <td>Harisiddhi</td>\n",
       "      <td>0-7-0-0</td>\n",
       "      <td>East</td>\n",
       "      <td>6.0</td>\n",
       "      <td>4.0</td>\n",
       "      <td>2.0</td>\n",
       "      <td>2.5</td>\n",
       "      <td>4.0</td>\n",
       "      <td>13.0</td>\n",
       "      <td>Full Furnished</td>\n",
       "      <td>2.5</td>\n",
       "    </tr>\n",
       "    <tr>\n",
       "      <th>8</th>\n",
       "      <td>47000000</td>\n",
       "      <td>Shital height, Imadol</td>\n",
       "      <td>0-4-2-0</td>\n",
       "      <td>East</td>\n",
       "      <td>6.0</td>\n",
       "      <td>4.0</td>\n",
       "      <td>2.0</td>\n",
       "      <td>3.0</td>\n",
       "      <td>4.0</td>\n",
       "      <td>13.0</td>\n",
       "      <td>Full Furnished</td>\n",
       "      <td>3.0</td>\n",
       "    </tr>\n",
       "    <tr>\n",
       "      <th>9</th>\n",
       "      <td>47000000</td>\n",
       "      <td>Cheu dada</td>\n",
       "      <td>5 aana</td>\n",
       "      <td>East</td>\n",
       "      <td>6.0</td>\n",
       "      <td>5.0</td>\n",
       "      <td>NaN</td>\n",
       "      <td>2.5</td>\n",
       "      <td>2.0</td>\n",
       "      <td>NaN</td>\n",
       "      <td>Full Furnished</td>\n",
       "      <td>2.5</td>\n",
       "    </tr>\n",
       "    <tr>\n",
       "      <th>10</th>\n",
       "      <td>52500000</td>\n",
       "      <td>Bhaisepati</td>\n",
       "      <td>0-5-2-0</td>\n",
       "      <td>East</td>\n",
       "      <td>6.0</td>\n",
       "      <td>5.0</td>\n",
       "      <td>2.0</td>\n",
       "      <td>2.5</td>\n",
       "      <td>4.0</td>\n",
       "      <td>16.0</td>\n",
       "      <td>Full Furnished</td>\n",
       "      <td>2.5</td>\n",
       "    </tr>\n",
       "    <tr>\n",
       "      <th>11</th>\n",
       "      <td>42500000</td>\n",
       "      <td>Shital Height</td>\n",
       "      <td>0-4-0-0</td>\n",
       "      <td>North</td>\n",
       "      <td>6.0</td>\n",
       "      <td>4.0</td>\n",
       "      <td>2.0</td>\n",
       "      <td>3.0</td>\n",
       "      <td>4.0</td>\n",
       "      <td>13.0</td>\n",
       "      <td>Full Furnished</td>\n",
       "      <td>3.0</td>\n",
       "    </tr>\n",
       "    <tr>\n",
       "      <th>12</th>\n",
       "      <td>60000000</td>\n",
       "      <td>Sifal chowk</td>\n",
       "      <td>0-4-2-1</td>\n",
       "      <td>East</td>\n",
       "      <td>8.0</td>\n",
       "      <td>5.0</td>\n",
       "      <td>3.0</td>\n",
       "      <td>3.5</td>\n",
       "      <td>2.0</td>\n",
       "      <td>NaN</td>\n",
       "      <td>Full Furnished</td>\n",
       "      <td>3.5</td>\n",
       "    </tr>\n",
       "    <tr>\n",
       "      <th>13</th>\n",
       "      <td>35000000</td>\n",
       "      <td>baneshwor</td>\n",
       "      <td>3 aana</td>\n",
       "      <td>North</td>\n",
       "      <td>NaN</td>\n",
       "      <td>3.0</td>\n",
       "      <td>3.0</td>\n",
       "      <td>3.5</td>\n",
       "      <td>1.0</td>\n",
       "      <td>10.0</td>\n",
       "      <td>Unfurnished</td>\n",
       "      <td>3.5</td>\n",
       "    </tr>\n",
       "    <tr>\n",
       "      <th>14</th>\n",
       "      <td>63000000</td>\n",
       "      <td>Shital Height</td>\n",
       "      <td>0-6-0-0</td>\n",
       "      <td>South</td>\n",
       "      <td>6.0</td>\n",
       "      <td>5.0</td>\n",
       "      <td>2.0</td>\n",
       "      <td>2.5</td>\n",
       "      <td>4.0</td>\n",
       "      <td>13.0</td>\n",
       "      <td>Full Furnished</td>\n",
       "      <td>2.5</td>\n",
       "    </tr>\n",
       "  </tbody>\n",
       "</table>\n",
       "</div>"
      ],
      "text/plain": [
       "       price                location     area facing  no_of_bedroom  \\\n",
       "0   32000000   Shital height, Imadol  0-3-0-2   East            5.0   \n",
       "1   28000000           Shital Height  0-3-0-0   West            5.0   \n",
       "2   32500000  House for sale bhangal      NaN  South            NaN   \n",
       "3   20000000     Pulchowk birtamode       NaN   East            3.0   \n",
       "4   32500000    Koteshwor, Kathmandu      NaN   West            5.0   \n",
       "5   40000000   Shital height, Imadol  0-4-0-0  North            6.0   \n",
       "6   28000000              Bhaisepati  0-4-0-0  South            6.0   \n",
       "7   40000000              Harisiddhi  0-7-0-0   East            6.0   \n",
       "8   47000000   Shital height, Imadol  0-4-2-0   East            6.0   \n",
       "9   47000000               Cheu dada   5 aana   East            6.0   \n",
       "10  52500000              Bhaisepati  0-5-2-0   East            6.0   \n",
       "11  42500000           Shital Height  0-4-0-0  North            6.0   \n",
       "12  60000000             Sifal chowk  0-4-2-1   East            8.0   \n",
       "13  35000000               baneshwor   3 aana  North            NaN   \n",
       "14  63000000           Shital Height  0-6-0-0  South            6.0   \n",
       "\n",
       "    no_of_bathroom  no_of_livingroom  no_of_kitchen  parking  road_size  \\\n",
       "0              4.0               2.0            3.0      4.0       13.0   \n",
       "1              4.0               2.0            3.5      2.0       13.0   \n",
       "2              NaN               NaN            NaN      NaN        NaN   \n",
       "3              1.0               1.0            1.0      3.0        NaN   \n",
       "4              3.0               2.0            2.5      1.0        NaN   \n",
       "5              4.0               2.0            2.5      4.0       13.0   \n",
       "6              3.0               2.0            2.5      4.0       16.0   \n",
       "7              4.0               2.0            2.5      4.0       13.0   \n",
       "8              4.0               2.0            3.0      4.0       13.0   \n",
       "9              5.0               NaN            2.5      2.0        NaN   \n",
       "10             5.0               2.0            2.5      4.0       16.0   \n",
       "11             4.0               2.0            3.0      4.0       13.0   \n",
       "12             5.0               3.0            3.5      2.0        NaN   \n",
       "13             3.0               3.0            3.5      1.0       10.0   \n",
       "14             5.0               2.0            2.5      4.0       13.0   \n",
       "\n",
       "            furniture  floors  \n",
       "0      Semi Furnished     3.0  \n",
       "1      Semi Furnished     3.5  \n",
       "2   Select Furnishing     NaN  \n",
       "3   Select Furnishing     1.0  \n",
       "4                 NaN     2.5  \n",
       "5      Full Furnished     2.5  \n",
       "6      Full Furnished     2.5  \n",
       "7      Full Furnished     2.5  \n",
       "8      Full Furnished     3.0  \n",
       "9      Full Furnished     2.5  \n",
       "10     Full Furnished     2.5  \n",
       "11     Full Furnished     3.0  \n",
       "12     Full Furnished     3.5  \n",
       "13        Unfurnished     3.5  \n",
       "14     Full Furnished     2.5  "
      ]
     },
     "execution_count": 2,
     "metadata": {},
     "output_type": "execute_result"
    }
   ],
   "source": [
    "basobas_df=pd.read_csv(r\"D:\\Housing Project\\Data Collection\\baobas\\basobas.csv\")\n",
    "basobas_df.head(15)"
   ]
  },
  {
   "cell_type": "code",
   "execution_count": 3,
   "id": "6bab086a-60ea-4040-83a8-3d58e8f780c6",
   "metadata": {},
   "outputs": [
    {
     "name": "stdout",
     "output_type": "stream",
     "text": [
      "<class 'pandas.core.frame.DataFrame'>\n",
      "RangeIndex: 286 entries, 0 to 285\n",
      "Data columns (total 12 columns):\n",
      " #   Column            Non-Null Count  Dtype  \n",
      "---  ------            --------------  -----  \n",
      " 0   price             286 non-null    int64  \n",
      " 1   location          286 non-null    object \n",
      " 2   area              273 non-null    object \n",
      " 3   facing            286 non-null    object \n",
      " 4   no_of_bedroom     279 non-null    float64\n",
      " 5   no_of_bathroom    281 non-null    float64\n",
      " 6   no_of_livingroom  280 non-null    float64\n",
      " 7   no_of_kitchen     281 non-null    float64\n",
      " 8   parking           280 non-null    float64\n",
      " 9   road_size         223 non-null    float64\n",
      " 10  furniture         285 non-null    object \n",
      " 11  floors            281 non-null    float64\n",
      "dtypes: float64(7), int64(1), object(4)\n",
      "memory usage: 26.9+ KB\n"
     ]
    }
   ],
   "source": [
    "basobas_df.info()"
   ]
  },
  {
   "cell_type": "code",
   "execution_count": 4,
   "id": "ddb0cb7d-d1c8-44a3-b8bf-e04881b2c873",
   "metadata": {},
   "outputs": [
    {
     "data": {
      "text/plain": [
       "price                0\n",
       "location             0\n",
       "area                13\n",
       "facing               0\n",
       "no_of_bedroom        7\n",
       "no_of_bathroom       5\n",
       "no_of_livingroom     6\n",
       "no_of_kitchen        5\n",
       "parking              6\n",
       "road_size           63\n",
       "furniture            1\n",
       "floors               5\n",
       "dtype: int64"
      ]
     },
     "execution_count": 4,
     "metadata": {},
     "output_type": "execute_result"
    }
   ],
   "source": [
    "basobas_df.isnull().sum() "
   ]
  },
  {
   "cell_type": "code",
   "execution_count": 5,
   "id": "f44f83cc-a09e-4069-9165-5318bf686a01",
   "metadata": {},
   "outputs": [
    {
     "data": {
      "text/plain": [
       "count    281.000000\n",
       "mean       2.898577\n",
       "std        0.678389\n",
       "min        1.000000\n",
       "25%        2.500000\n",
       "50%        3.000000\n",
       "75%        3.000000\n",
       "max        7.000000\n",
       "Name: floors, dtype: float64"
      ]
     },
     "execution_count": 5,
     "metadata": {},
     "output_type": "execute_result"
    }
   ],
   "source": [
    "basobas_df['floors'].describe()"
   ]
  },
  {
   "cell_type": "code",
   "execution_count": 6,
   "id": "edee4f69-28c8-4290-8562-9d69a7177f00",
   "metadata": {},
   "outputs": [
    {
     "name": "stdout",
     "output_type": "stream",
     "text": [
      "Max repeated values in floor feature is 2.5\n"
     ]
    }
   ],
   "source": [
    "print(f'Max repeated values in floor feature is {basobas_df['floors'].mode()[0]}')"
   ]
  },
  {
   "cell_type": "code",
   "execution_count": 7,
   "id": "0ca089cc-fdd1-4101-bb29-418fe7b69f28",
   "metadata": {},
   "outputs": [],
   "source": [
    "#since the missing value in floor is 5 so its feels okey and is replce NAN with mode ie is 2.5 \n",
    "basobas_df['floors']=basobas_df['floors'].fillna('2.5')"
   ]
  },
  {
   "cell_type": "code",
   "execution_count": 8,
   "id": "0e72c97a-44b9-4ce9-89c6-97a7444b3baa",
   "metadata": {},
   "outputs": [],
   "source": [
    "#since the there is single lisiting with missing furnishing feature so its okey to replace with unfurnished value.\n",
    "basobas_df['furniture']=basobas_df['furniture'].fillna('Unfurnished')"
   ]
  },
  {
   "cell_type": "code",
   "execution_count": 9,
   "id": "69389bd9-6bf4-4803-90b6-a91de1ba79e1",
   "metadata": {},
   "outputs": [
    {
     "name": "stdout",
     "output_type": "stream",
     "text": [
      "Max repeated values in road size feature is 13.0\n"
     ]
    }
   ],
   "source": [
    "print(f'Max repeated values in road size feature is {basobas_df['road_size'].mode()[0]}')"
   ]
  },
  {
   "cell_type": "code",
   "execution_count": 10,
   "id": "d62a3e3d-4fe3-4c4b-8162-984f4b9ec300",
   "metadata": {},
   "outputs": [],
   "source": [
    "# as the mode of road size feature is 13 and 13 is the minimum and standard size for nepali road so it is okey to fill up NAN with 13.0\n",
    "basobas_df['road_size']=basobas_df['road_size'].fillna('13.0')"
   ]
  },
  {
   "cell_type": "code",
   "execution_count": 11,
   "id": "0b694f37-c7d0-469d-b265-4505d48a713c",
   "metadata": {},
   "outputs": [
    {
     "name": "stdout",
     "output_type": "stream",
     "text": [
      "Max repeated values in parking feature is 4.0\n"
     ]
    }
   ],
   "source": [
    "print(f'Max repeated values in parking feature is {basobas_df['parking'].mode()[0]}')"
   ]
  },
  {
   "cell_type": "code",
   "execution_count": 12,
   "id": "82222a98-182f-4a6f-b0ca-1abe6e55e550",
   "metadata": {},
   "outputs": [],
   "source": [
    "# 4.0 is the parking space most hosuing offer we can replace NAN value with 4.0 as max housing offer open space avilable to pard 4 bikes.\n",
    "basobas_df['parking']=basobas_df['parking'].fillna('4.0')"
   ]
  },
  {
   "cell_type": "code",
   "execution_count": 13,
   "id": "6418d478-7170-405f-9fb3-910ea171c377",
   "metadata": {},
   "outputs": [
    {
     "name": "stdout",
     "output_type": "stream",
     "text": [
      "Max repeated values in no of bedroom feature is 5.0\n",
      "Max repeated values in no of bathroom feature is 4.0\n",
      "Max repeated values in no of livingroom feature is 2.0\n",
      "Max repeated values in no of kitchen feature is 2.5\n"
     ]
    }
   ],
   "source": [
    "print(f'Max repeated values in no of bedroom feature is {basobas_df['no_of_bedroom'].mode()[0]}')\n",
    "print(f'Max repeated values in no of bathroom feature is {basobas_df['no_of_bathroom'].mode()[0]}')\n",
    "print(f'Max repeated values in no of livingroom feature is {basobas_df['no_of_livingroom'].mode()[0]}')\n",
    "print(f'Max repeated values in no of kitchen feature is {basobas_df['no_of_kitchen'].mode()[0]}')"
   ]
  },
  {
   "cell_type": "code",
   "execution_count": 14,
   "id": "a9f271fc-1b0d-4d71-b5b3-9de83a22341b",
   "metadata": {
    "scrolled": true
   },
   "outputs": [],
   "source": [
    "#the fractional values of kitchen is for whole kichen and half dininag  area so , we will just round up the value and fill up the NAN and for other bedroom,bathrom,living room look as normal as normal hosues in nepal.\n",
    "basobas_df['no_of_bedroom']=basobas_df['no_of_bedroom'].fillna('5.0')\n",
    "basobas_df['no_of_bathroom']=basobas_df['no_of_bathroom'].fillna('4.0')\n",
    "basobas_df['no_of_livingroom']=basobas_df['no_of_livingroom'].fillna('2.0')\n",
    "basobas_df['no_of_kitchen']=basobas_df['no_of_kitchen'].fillna(round(2.5))\n",
    "basobas_df['no_of_kitchen']=basobas_df['no_of_kitchen'].apply(lambda x:round(x))"
   ]
  },
  {
   "cell_type": "code",
   "execution_count": 15,
   "id": "fe556103-e76e-4a39-a9f1-ae33b88d58c6",
   "metadata": {},
   "outputs": [
    {
     "data": {
      "text/plain": [
       "price                0\n",
       "location             0\n",
       "area                13\n",
       "facing               0\n",
       "no_of_bedroom        0\n",
       "no_of_bathroom       0\n",
       "no_of_livingroom     0\n",
       "no_of_kitchen        0\n",
       "parking              0\n",
       "road_size            0\n",
       "furniture            0\n",
       "floors               0\n",
       "dtype: int64"
      ]
     },
     "execution_count": 15,
     "metadata": {},
     "output_type": "execute_result"
    }
   ],
   "source": [
    "basobas_df.isnull().sum() "
   ]
  },
  {
   "cell_type": "code",
   "execution_count": 16,
   "id": "5487d8fd-3735-4d4d-a1c5-fc2c89404861",
   "metadata": {},
   "outputs": [],
   "source": [
    "#for location values  the format covers as (location,city) so we can drop city and use location data.\n",
    "basobas_df['location']=basobas_df['location'].str.split(',').str[0]"
   ]
  },
  {
   "cell_type": "code",
   "execution_count": 17,
   "id": "043d6fc2-a8c6-4629-9710-f956d623015d",
   "metadata": {},
   "outputs": [
    {
     "data": {
      "text/html": [
       "<div>\n",
       "<style scoped>\n",
       "    .dataframe tbody tr th:only-of-type {\n",
       "        vertical-align: middle;\n",
       "    }\n",
       "\n",
       "    .dataframe tbody tr th {\n",
       "        vertical-align: top;\n",
       "    }\n",
       "\n",
       "    .dataframe thead th {\n",
       "        text-align: right;\n",
       "    }\n",
       "</style>\n",
       "<table border=\"1\" class=\"dataframe\">\n",
       "  <thead>\n",
       "    <tr style=\"text-align: right;\">\n",
       "      <th></th>\n",
       "      <th>price</th>\n",
       "      <th>location</th>\n",
       "      <th>area</th>\n",
       "      <th>facing</th>\n",
       "      <th>no_of_bedroom</th>\n",
       "      <th>no_of_bathroom</th>\n",
       "      <th>no_of_livingroom</th>\n",
       "      <th>no_of_kitchen</th>\n",
       "      <th>parking</th>\n",
       "      <th>road_size</th>\n",
       "      <th>furniture</th>\n",
       "      <th>floors</th>\n",
       "    </tr>\n",
       "  </thead>\n",
       "  <tbody>\n",
       "    <tr>\n",
       "      <th>64</th>\n",
       "      <td>35000000</td>\n",
       "      <td>Tikathali</td>\n",
       "      <td>0-4-0-0</td>\n",
       "      <td>South</td>\n",
       "      <td>6.0</td>\n",
       "      <td>4.0</td>\n",
       "      <td>3.0</td>\n",
       "      <td>3</td>\n",
       "      <td>3.0</td>\n",
       "      <td>20.0</td>\n",
       "      <td>Semi Furnished</td>\n",
       "      <td>3.0</td>\n",
       "    </tr>\n",
       "    <tr>\n",
       "      <th>249</th>\n",
       "      <td>24500000</td>\n",
       "      <td>2.5 km from kalanki</td>\n",
       "      <td>4 aana 1 paisa 3 daam</td>\n",
       "      <td>East</td>\n",
       "      <td>8.0</td>\n",
       "      <td>5.0</td>\n",
       "      <td>3.0</td>\n",
       "      <td>3</td>\n",
       "      <td>2.0</td>\n",
       "      <td>13.0</td>\n",
       "      <td>Semi Furnished</td>\n",
       "      <td>3.0</td>\n",
       "    </tr>\n",
       "    <tr>\n",
       "      <th>147</th>\n",
       "      <td>29500000</td>\n",
       "      <td>Imadol</td>\n",
       "      <td>0-3-2-0</td>\n",
       "      <td>South</td>\n",
       "      <td>6.0</td>\n",
       "      <td>5.0</td>\n",
       "      <td>2.0</td>\n",
       "      <td>3</td>\n",
       "      <td>4.0</td>\n",
       "      <td>13.0</td>\n",
       "      <td>Semi Furnished</td>\n",
       "      <td>3.0</td>\n",
       "    </tr>\n",
       "    <tr>\n",
       "      <th>136</th>\n",
       "      <td>55000000</td>\n",
       "      <td>Imadol</td>\n",
       "      <td>0-5-0-0</td>\n",
       "      <td>West</td>\n",
       "      <td>5.0</td>\n",
       "      <td>4.0</td>\n",
       "      <td>2.0</td>\n",
       "      <td>4</td>\n",
       "      <td>3.0</td>\n",
       "      <td>13.0</td>\n",
       "      <td>Full Furnished</td>\n",
       "      <td>3.5</td>\n",
       "    </tr>\n",
       "    <tr>\n",
       "      <th>93</th>\n",
       "      <td>80000000</td>\n",
       "      <td>Basundhara</td>\n",
       "      <td>0-8-0-0</td>\n",
       "      <td>East</td>\n",
       "      <td>8.0</td>\n",
       "      <td>4.0</td>\n",
       "      <td>2.0</td>\n",
       "      <td>3</td>\n",
       "      <td>6.0</td>\n",
       "      <td>26.0</td>\n",
       "      <td>Semi Furnished</td>\n",
       "      <td>3.0</td>\n",
       "    </tr>\n",
       "  </tbody>\n",
       "</table>\n",
       "</div>"
      ],
      "text/plain": [
       "        price             location                   area facing  \\\n",
       "64   35000000            Tikathali                0-4-0-0  South   \n",
       "249  24500000  2.5 km from kalanki  4 aana 1 paisa 3 daam   East   \n",
       "147  29500000               Imadol                0-3-2-0  South   \n",
       "136  55000000               Imadol                0-5-0-0   West   \n",
       "93   80000000           Basundhara                0-8-0-0   East   \n",
       "\n",
       "    no_of_bedroom no_of_bathroom no_of_livingroom  no_of_kitchen parking  \\\n",
       "64            6.0            4.0              3.0              3     3.0   \n",
       "249           8.0            5.0              3.0              3     2.0   \n",
       "147           6.0            5.0              2.0              3     4.0   \n",
       "136           5.0            4.0              2.0              4     3.0   \n",
       "93            8.0            4.0              2.0              3     6.0   \n",
       "\n",
       "    road_size       furniture floors  \n",
       "64       20.0  Semi Furnished    3.0  \n",
       "249      13.0  Semi Furnished    3.0  \n",
       "147      13.0  Semi Furnished    3.0  \n",
       "136      13.0  Full Furnished    3.5  \n",
       "93       26.0  Semi Furnished    3.0  "
      ]
     },
     "execution_count": 17,
     "metadata": {},
     "output_type": "execute_result"
    }
   ],
   "source": [
    "basobas_df.sample(5)"
   ]
  },
  {
   "cell_type": "code",
   "execution_count": 18,
   "id": "2d0336e2-b9b9-408b-beb3-5f641bd2cfdc",
   "metadata": {},
   "outputs": [],
   "source": [
    "# Conversion factors (approximate)\n",
    "ropani_to_sqft = 5476\n",
    "aana_to_sqft = 42.253\n",
    "paisa_to_sqft = 85.56\n",
    "daam_to_sqft = 21.39\n",
    "\n",
    "def convert_to_sqft(measurement):\n",
    "    \"\"\"Converts a Nepali land measurement to square feet.\n",
    "\n",
    "    Args:\n",
    "        measurement: A string representing the Nepali land measurement.\n",
    "\n",
    "    Returns:\n",
    "        The equivalent measurement in square feet, or None if the measurement is invalid.\n",
    "    \"\"\"\n",
    "\n",
    "    # Handle numerical values directly\n",
    "    try:\n",
    "        return float(measurement)\n",
    "    except ValueError:\n",
    "        pass\n",
    "\n",
    "    # Handle Nepali units\n",
    "    measurement = measurement.lower()\n",
    "    if 'ropani' in measurement:\n",
    "        try:\n",
    "            return float(measurement.split(' ')[0]) * ropani_to_sqft\n",
    "        except ValueError:\n",
    "            pass\n",
    "    elif 'aana' in measurement:\n",
    "        try:\n",
    "            return float(measurement.split(' ')[0]) * aana_to_sqft\n",
    "        except ValueError:\n",
    "            pass\n",
    "    elif 'paisa' in measurement:\n",
    "        try:\n",
    "            return float(measurement.split(' ')[0]) * paisa_to_sqft\n",
    "        except ValueError:\n",
    "            pass\n",
    "    elif 'poisa' in measurement:\n",
    "        try:\n",
    "            return float(measurement.split(' ')[0]) * paisa_to_sqft\n",
    "        except ValueError:\n",
    "            pass\n",
    "    elif 'daam' in measurement:\n",
    "        try:\n",
    "            return float(measurement.split(' ')[0]) * daam_to_sqft\n",
    "        except ValueError:\n",
    "            pass\n",
    "    elif 'sqft' in measurement:\n",
    "        try:\n",
    "            return float(measurement.split(' ')[0])\n",
    "        except ValueError:\n",
    "            pass\n",
    "    elif 'sq ft' in measurement:\n",
    "        try:\n",
    "            return float(measurement.split(' ')[0])\n",
    "        except ValueError:\n",
    "            pass     \n",
    "    elif '-' in measurement:\n",
    "        # Handle '0-3-3-0' format\n",
    "        parts = measurement.split('-')\n",
    "        if len(parts) == 4:\n",
    "            ropani, aana, paisa, daam = map(float, parts)\n",
    "            return ropani * ropani_to_sqft + aana * aana_to_sqft + paisa * paisa_to_sqft + daam * daam_to_sqft\n",
    "        else:\n",
    "            return None\n",
    "\n",
    "    # Handle invalid measurements\n",
    "    return None\n",
    "\n",
    "# Sample data\n",
    " # Replace with your actual data\n",
    "data=basobas_df['area']\n",
    "# Convert to square feet\n",
    "results = []\n",
    "for measurement in data:\n",
    "    sqft = convert_to_sqft(measurement)\n",
    "    results.append(sqft)"
   ]
  },
  {
   "cell_type": "code",
   "execution_count": 19,
   "id": "81929e69-dd6e-4285-a46a-76a3249e7cd1",
   "metadata": {},
   "outputs": [],
   "source": [
    "basobas_df['area']=basobas_df['area'].apply(convert_to_sqft)"
   ]
  },
  {
   "cell_type": "code",
   "execution_count": 20,
   "id": "7aafb71d-e3ba-4f92-8d51-962f7e97ab36",
   "metadata": {},
   "outputs": [],
   "source": [
    "#for the area as it is most imp thing so we gonna drop all nan value\n",
    "basobas_df=basobas_df.dropna()"
   ]
  },
  {
   "cell_type": "code",
   "execution_count": 21,
   "id": "d490df84-7af1-4bf9-bda6-c82595751566",
   "metadata": {},
   "outputs": [
    {
     "data": {
      "text/plain": [
       "price               0\n",
       "location            0\n",
       "area                0\n",
       "facing              0\n",
       "no_of_bedroom       0\n",
       "no_of_bathroom      0\n",
       "no_of_livingroom    0\n",
       "no_of_kitchen       0\n",
       "parking             0\n",
       "road_size           0\n",
       "furniture           0\n",
       "floors              0\n",
       "dtype: int64"
      ]
     },
     "execution_count": 21,
     "metadata": {},
     "output_type": "execute_result"
    }
   ],
   "source": [
    "basobas_df.isnull().sum()"
   ]
  },
  {
   "cell_type": "markdown",
   "id": "0fb76e1c-5a82-41cd-8a2b-b5425c45832b",
   "metadata": {},
   "source": [
    "--------------------------------------------------------------------------------------------------------------------------------------------------------"
   ]
  },
  {
   "cell_type": "markdown",
   "id": "0309cff8-58e9-420b-bc16-dfee2864e6d9",
   "metadata": {},
   "source": [
    "# Gharderi"
   ]
  },
  {
   "cell_type": "markdown",
   "id": "ee1ec6db-24e8-4c0f-b389-cfa88d9c397f",
   "metadata": {},
   "source": [
    "--------------------------------------------------------------------------------------------------------------------------------------------------------"
   ]
  },
  {
   "cell_type": "code",
   "execution_count": 22,
   "id": "2d8d9cfe-0eab-4f66-b257-337104099cb7",
   "metadata": {},
   "outputs": [],
   "source": [
    "gharderi_df=pd.read_csv(r\"D:\\Housing Project\\Data Collection\\ghardhera\\added_raw_gharghaderi.csv\")"
   ]
  },
  {
   "cell_type": "code",
   "execution_count": 23,
   "id": "1d09608c-ee4e-4aac-b9cb-72fdd8ee160a",
   "metadata": {},
   "outputs": [
    {
     "data": {
      "text/html": [
       "<div>\n",
       "<style scoped>\n",
       "    .dataframe tbody tr th:only-of-type {\n",
       "        vertical-align: middle;\n",
       "    }\n",
       "\n",
       "    .dataframe tbody tr th {\n",
       "        vertical-align: top;\n",
       "    }\n",
       "\n",
       "    .dataframe thead th {\n",
       "        text-align: right;\n",
       "    }\n",
       "</style>\n",
       "<table border=\"1\" class=\"dataframe\">\n",
       "  <thead>\n",
       "    <tr style=\"text-align: right;\">\n",
       "      <th></th>\n",
       "      <th>Unnamed: 0</th>\n",
       "      <th>price</th>\n",
       "      <th>location</th>\n",
       "      <th>area</th>\n",
       "      <th>facing</th>\n",
       "      <th>no_of_bedroom</th>\n",
       "      <th>no_of_bathroom</th>\n",
       "      <th>no_of_livingroom</th>\n",
       "      <th>no_of_kitchen</th>\n",
       "      <th>parking</th>\n",
       "      <th>road_size</th>\n",
       "      <th>floors</th>\n",
       "    </tr>\n",
       "  </thead>\n",
       "  <tbody>\n",
       "    <tr>\n",
       "      <th>0</th>\n",
       "      <td>0</td>\n",
       "      <td>रु.2,40,00,000</td>\n",
       "      <td>Kapan</td>\n",
       "      <td>3.30anna</td>\n",
       "      <td>South</td>\n",
       "      <td>4</td>\n",
       "      <td>4</td>\n",
       "      <td>2</td>\n",
       "      <td>undefined</td>\n",
       "      <td>10</td>\n",
       "      <td>15</td>\n",
       "      <td>2.5</td>\n",
       "    </tr>\n",
       "    <tr>\n",
       "      <th>1</th>\n",
       "      <td>1</td>\n",
       "      <td>रु.2,50,00,000</td>\n",
       "      <td>Imadol</td>\n",
       "      <td>3 ana 1 paisa</td>\n",
       "      <td>South</td>\n",
       "      <td>7</td>\n",
       "      <td>4</td>\n",
       "      <td>2</td>\n",
       "      <td>2</td>\n",
       "      <td>8</td>\n",
       "      <td>NaN</td>\n",
       "      <td>3</td>\n",
       "    </tr>\n",
       "    <tr>\n",
       "      <th>2</th>\n",
       "      <td>2</td>\n",
       "      <td>रु.3,65,00,000</td>\n",
       "      <td>Imadol</td>\n",
       "      <td>3.5 aana</td>\n",
       "      <td>Select</td>\n",
       "      <td>8</td>\n",
       "      <td>4</td>\n",
       "      <td>2</td>\n",
       "      <td>2</td>\n",
       "      <td>8</td>\n",
       "      <td>24</td>\n",
       "      <td>3</td>\n",
       "    </tr>\n",
       "    <tr>\n",
       "      <th>3</th>\n",
       "      <td>3</td>\n",
       "      <td>रु.2,15,00,000</td>\n",
       "      <td>Imadol</td>\n",
       "      <td>Paune 3 ana</td>\n",
       "      <td>Select</td>\n",
       "      <td>7</td>\n",
       "      <td>4</td>\n",
       "      <td>2</td>\n",
       "      <td>2</td>\n",
       "      <td>7</td>\n",
       "      <td>NaN</td>\n",
       "      <td>3</td>\n",
       "    </tr>\n",
       "    <tr>\n",
       "      <th>4</th>\n",
       "      <td>4</td>\n",
       "      <td>रु.3,80,00,000</td>\n",
       "      <td>Imadol</td>\n",
       "      <td>4 Aana 1 Paisa</td>\n",
       "      <td>East</td>\n",
       "      <td>7</td>\n",
       "      <td>5</td>\n",
       "      <td>2</td>\n",
       "      <td>2</td>\n",
       "      <td>16</td>\n",
       "      <td>13</td>\n",
       "      <td>3.5</td>\n",
       "    </tr>\n",
       "  </tbody>\n",
       "</table>\n",
       "</div>"
      ],
      "text/plain": [
       "   Unnamed: 0           price location            area  facing no_of_bedroom  \\\n",
       "0           0  रु.2,40,00,000    Kapan        3.30anna   South             4   \n",
       "1           1  रु.2,50,00,000   Imadol   3 ana 1 paisa   South             7   \n",
       "2           2  रु.3,65,00,000   Imadol        3.5 aana  Select             8   \n",
       "3           3  रु.2,15,00,000   Imadol     Paune 3 ana  Select             7   \n",
       "4           4  रु.3,80,00,000   Imadol  4 Aana 1 Paisa    East             7   \n",
       "\n",
       "  no_of_bathroom no_of_livingroom no_of_kitchen parking road_size floors  \n",
       "0              4                2     undefined      10        15    2.5  \n",
       "1              4                2             2       8       NaN      3  \n",
       "2              4                2             2       8        24      3  \n",
       "3              4                2             2       7       NaN      3  \n",
       "4              5                2             2      16        13    3.5  "
      ]
     },
     "execution_count": 23,
     "metadata": {},
     "output_type": "execute_result"
    }
   ],
   "source": [
    "gharderi_df.head()"
   ]
  },
  {
   "cell_type": "code",
   "execution_count": 24,
   "id": "b95cb01a-5b26-460b-955f-749aa1c8685f",
   "metadata": {},
   "outputs": [],
   "source": [
    "#arraning the data structure of price.\n",
    "gharderi_df.drop(columns=['Unnamed: 0'],inplace=True)\n",
    "gharderi_df['price']=gharderi_df['price'].str.split('.').str[1]\n",
    "gharderi_df['price']=gharderi_df['price'].apply(lambda x:x.split(','))\n",
    "gharderi_df['price']=gharderi_df['price'].apply(lambda x:\"\".join(x))"
   ]
  },
  {
   "cell_type": "code",
   "execution_count": 25,
   "id": "dcbab097-d81e-452e-b4a3-93a5bc081d43",
   "metadata": {},
   "outputs": [
    {
     "data": {
      "text/html": [
       "<div>\n",
       "<style scoped>\n",
       "    .dataframe tbody tr th:only-of-type {\n",
       "        vertical-align: middle;\n",
       "    }\n",
       "\n",
       "    .dataframe tbody tr th {\n",
       "        vertical-align: top;\n",
       "    }\n",
       "\n",
       "    .dataframe thead th {\n",
       "        text-align: right;\n",
       "    }\n",
       "</style>\n",
       "<table border=\"1\" class=\"dataframe\">\n",
       "  <thead>\n",
       "    <tr style=\"text-align: right;\">\n",
       "      <th></th>\n",
       "      <th>price</th>\n",
       "      <th>location</th>\n",
       "      <th>area</th>\n",
       "      <th>facing</th>\n",
       "      <th>no_of_bedroom</th>\n",
       "      <th>no_of_bathroom</th>\n",
       "      <th>no_of_livingroom</th>\n",
       "      <th>no_of_kitchen</th>\n",
       "      <th>parking</th>\n",
       "      <th>road_size</th>\n",
       "      <th>floors</th>\n",
       "    </tr>\n",
       "  </thead>\n",
       "  <tbody>\n",
       "    <tr>\n",
       "      <th>0</th>\n",
       "      <td>24000000</td>\n",
       "      <td>Kapan</td>\n",
       "      <td>3.30anna</td>\n",
       "      <td>South</td>\n",
       "      <td>4</td>\n",
       "      <td>4</td>\n",
       "      <td>2</td>\n",
       "      <td>undefined</td>\n",
       "      <td>10</td>\n",
       "      <td>15</td>\n",
       "      <td>2.5</td>\n",
       "    </tr>\n",
       "    <tr>\n",
       "      <th>1</th>\n",
       "      <td>25000000</td>\n",
       "      <td>Imadol</td>\n",
       "      <td>3 ana 1 paisa</td>\n",
       "      <td>South</td>\n",
       "      <td>7</td>\n",
       "      <td>4</td>\n",
       "      <td>2</td>\n",
       "      <td>2</td>\n",
       "      <td>8</td>\n",
       "      <td>NaN</td>\n",
       "      <td>3</td>\n",
       "    </tr>\n",
       "    <tr>\n",
       "      <th>2</th>\n",
       "      <td>36500000</td>\n",
       "      <td>Imadol</td>\n",
       "      <td>3.5 aana</td>\n",
       "      <td>Select</td>\n",
       "      <td>8</td>\n",
       "      <td>4</td>\n",
       "      <td>2</td>\n",
       "      <td>2</td>\n",
       "      <td>8</td>\n",
       "      <td>24</td>\n",
       "      <td>3</td>\n",
       "    </tr>\n",
       "    <tr>\n",
       "      <th>3</th>\n",
       "      <td>21500000</td>\n",
       "      <td>Imadol</td>\n",
       "      <td>Paune 3 ana</td>\n",
       "      <td>Select</td>\n",
       "      <td>7</td>\n",
       "      <td>4</td>\n",
       "      <td>2</td>\n",
       "      <td>2</td>\n",
       "      <td>7</td>\n",
       "      <td>NaN</td>\n",
       "      <td>3</td>\n",
       "    </tr>\n",
       "    <tr>\n",
       "      <th>4</th>\n",
       "      <td>38000000</td>\n",
       "      <td>Imadol</td>\n",
       "      <td>4 Aana 1 Paisa</td>\n",
       "      <td>East</td>\n",
       "      <td>7</td>\n",
       "      <td>5</td>\n",
       "      <td>2</td>\n",
       "      <td>2</td>\n",
       "      <td>16</td>\n",
       "      <td>13</td>\n",
       "      <td>3.5</td>\n",
       "    </tr>\n",
       "  </tbody>\n",
       "</table>\n",
       "</div>"
      ],
      "text/plain": [
       "      price location            area  facing no_of_bedroom no_of_bathroom  \\\n",
       "0  24000000    Kapan        3.30anna   South             4              4   \n",
       "1  25000000   Imadol   3 ana 1 paisa   South             7              4   \n",
       "2  36500000   Imadol        3.5 aana  Select             8              4   \n",
       "3  21500000   Imadol     Paune 3 ana  Select             7              4   \n",
       "4  38000000   Imadol  4 Aana 1 Paisa    East             7              5   \n",
       "\n",
       "  no_of_livingroom no_of_kitchen parking road_size floors  \n",
       "0                2     undefined      10        15    2.5  \n",
       "1                2             2       8       NaN      3  \n",
       "2                2             2       8        24      3  \n",
       "3                2             2       7       NaN      3  \n",
       "4                2             2      16        13    3.5  "
      ]
     },
     "execution_count": 25,
     "metadata": {},
     "output_type": "execute_result"
    }
   ],
   "source": [
    "gharderi_df.head()"
   ]
  },
  {
   "cell_type": "code",
   "execution_count": 26,
   "id": "aa9330d7-cc7f-4427-a9f3-3ff7f4e81f3a",
   "metadata": {},
   "outputs": [
    {
     "data": {
      "text/plain": [
       "price                 0\n",
       "location              2\n",
       "area                  3\n",
       "facing                2\n",
       "no_of_bedroom         2\n",
       "no_of_bathroom        2\n",
       "no_of_livingroom      2\n",
       "no_of_kitchen       471\n",
       "parking             476\n",
       "road_size           103\n",
       "floors                2\n",
       "dtype: int64"
      ]
     },
     "execution_count": 26,
     "metadata": {},
     "output_type": "execute_result"
    }
   ],
   "source": [
    "gharderi_df.isnull().sum()"
   ]
  },
  {
   "cell_type": "code",
   "execution_count": 27,
   "id": "305f684d-b9ef-47a4-8504-18e7d2440eb9",
   "metadata": {},
   "outputs": [
    {
     "name": "stdout",
     "output_type": "stream",
     "text": [
      "Max repeated values in parking feature is 2.5\n"
     ]
    }
   ],
   "source": [
    "print(f'Max repeated values in parking feature is {gharderi_df['floors'].mode()[0]}')"
   ]
  },
  {
   "cell_type": "code",
   "execution_count": 28,
   "id": "cf6aa68c-71fd-4a2d-97a7-73b3821f7f1f",
   "metadata": {},
   "outputs": [],
   "source": [
    "#lets input the missing NA value with the mode value.\n",
    "gharderi_df['floors']=gharderi_df['floors'].fillna('2.5')"
   ]
  },
  {
   "cell_type": "code",
   "execution_count": 29,
   "id": "b15b8d6e-db3e-4352-ae1a-15874690a964",
   "metadata": {},
   "outputs": [
    {
     "name": "stdout",
     "output_type": "stream",
     "text": [
      "Max repeated values in parking feature is 13\n"
     ]
    }
   ],
   "source": [
    "print(f'Max repeated values in parking feature is {gharderi_df['road_size'].mode()[0]}')"
   ]
  },
  {
   "cell_type": "code",
   "execution_count": 30,
   "id": "73fd6d6b-df6b-40a4-9ac7-e6ab559c34fd",
   "metadata": {},
   "outputs": [],
   "source": [
    "#as 13 ft is the basic and standar road size we can input it .\n",
    "gharderi_df['road_size']=gharderi_df['road_size'].fillna('13')"
   ]
  },
  {
   "cell_type": "code",
   "execution_count": 31,
   "id": "209c2af2-349e-499b-82f5-a65814448566",
   "metadata": {},
   "outputs": [],
   "source": [
    "#lest just fill the missing na value with 0\n",
    "gharderi_df['parking']=gharderi_df['parking'].fillna('0')"
   ]
  },
  {
   "cell_type": "code",
   "execution_count": 32,
   "id": "8b856bfc-0fda-43ae-a667-bac18b4fd28e",
   "metadata": {},
   "outputs": [
    {
     "name": "stdout",
     "output_type": "stream",
     "text": [
      "Max repeated values in no of bedroom feature is 5\n",
      "Max repeated values in no of bathroom feature is 4\n",
      "Max repeated values in no of kitchen feature is 2\n",
      "Max repeated values in no of livingroom feature is 2\n"
     ]
    }
   ],
   "source": [
    "print(f'Max repeated values in no of bedroom feature is {gharderi_df['no_of_bedroom'].mode()[0]}')\n",
    "print(f'Max repeated values in no of bathroom feature is {gharderi_df['no_of_bathroom'].mode()[0]}')\n",
    "print(f'Max repeated values in no of kitchen feature is {gharderi_df['no_of_kitchen'].mode()[0]}')\n",
    "print(f'Max repeated values in no of livingroom feature is {gharderi_df['no_of_livingroom'].mode()[0]}')"
   ]
  },
  {
   "cell_type": "code",
   "execution_count": 33,
   "id": "2d8ae40c-8f8c-49bd-b5f7-6ef128ff3188",
   "metadata": {},
   "outputs": [],
   "source": [
    "#lest just fill the missing na value with most repeting values.\n",
    "gharderi_df['no_of_bedroom']=gharderi_df['no_of_bedroom'].fillna('5')\n",
    "gharderi_df['no_of_bathroom']=gharderi_df['no_of_bathroom'].fillna('4')\n",
    "gharderi_df['no_of_kitchen']=gharderi_df['no_of_kitchen'].fillna('2')\n",
    "gharderi_df['no_of_livingroom']=gharderi_df['no_of_livingroom'].fillna('2')"
   ]
  },
  {
   "cell_type": "code",
   "execution_count": 34,
   "id": "67a59304-bf10-4bd0-b2f9-38cb30b2a97a",
   "metadata": {},
   "outputs": [
    {
     "name": "stdout",
     "output_type": "stream",
     "text": [
      "Max repeated values in property facing feature is East\n"
     ]
    }
   ],
   "source": [
    "print(f'Max repeated values in property facing feature is {gharderi_df['facing'].mode()[0]}')"
   ]
  },
  {
   "cell_type": "code",
   "execution_count": 35,
   "id": "4848db04-f8d0-4608-8824-df4f25243dbd",
   "metadata": {},
   "outputs": [],
   "source": [
    "#east is faroable and accepted by nepali vastu so its beter to add 2 missing value with EAST\n",
    "gharderi_df['facing']=gharderi_df['facing'].fillna('East')"
   ]
  },
  {
   "cell_type": "code",
   "execution_count": 36,
   "id": "2cfc4a3e-b10a-4834-8009-3a55c670c78e",
   "metadata": {},
   "outputs": [
    {
     "name": "stdout",
     "output_type": "stream",
     "text": [
      "Facing lists:['South' 'Select' 'East' 'West' 'North' 'north']\n",
      "Bedroom Values:['4' '7' '8' '5' '6' '3' '15' '2' 'undefined' '10' '0' '8+' '11' '12' '9'\n",
      " '13' '1' '12-Aug']\n",
      "Bathroom Vales: ['4' '5' '3' '1' '6' '2' 'undefined' '7' '0' '8' '9' '10-Aug' '8+' '5+']\n",
      "Livingroom Vales: ['2' '1' '3' '0' '4' 'undefined' '7' '12' '5+' '15' '5' '8' '11' '6' '9'\n",
      " '10' '13+' '14']\n",
      "Kitchen Values: ['undefined' '2' '1' '3' '0' '4' '6' '5+']\n",
      "Parking Values: ['10' '8' '7' '16' '13' '14' '5' '15' '12' '6' '9' '11' 'undefined' '18'\n",
      " '17' '33' '3' '0' '4' '19' '1' '13+']\n",
      "Road_size Values: ['15' '13' '24' '20Ft' '13ft' '16' '14' '26' '20' '12' '4' '10' '24ft' '0'\n",
      " '22' '8' 'East' '20ft' '15ft' '18' '11' '4ft' '9' '20/14' '23' '30'\n",
      " '13feet' '11ft' '17' '6' '6m' '27' '32ft' '40+' 'Only' '300m' '13,'\n",
      " '14ft' '7m' '6,7,12ft' 'Above' '5.5tr' '12-Oct' '25' 'east' '3.5' '2m'\n",
      " '28ft' '16ft' '3' '28' '10m' '5' '10ft' '32' '7.5' '+12ft' '44' '60'\n",
      " 'current' '40feet' '42' '7.6' '7']\n",
      "Floor values:['2.5' '3' '3.5' '2' 'undefined' '6' '1.5' '4' '5' '0' '1' '4.5' '5+' '9+'\n",
      " '7']\n"
     ]
    }
   ],
   "source": [
    "print(f'Facing lists:{gharderi_df['facing'].unique()}')\n",
    "print(f'Bedroom Values:{gharderi_df['no_of_bedroom'].unique()}')\n",
    "print(f'Bathroom Vales: {gharderi_df['no_of_bathroom'].unique()}')\n",
    "print(f'Livingroom Vales: {gharderi_df['no_of_livingroom'].unique()}')\n",
    "print(f'Kitchen Values: {gharderi_df['no_of_kitchen'].unique()}')\n",
    "print(f'Parking Values: {gharderi_df['parking'].unique()}')\n",
    "print(f'Road_size Values: {gharderi_df['road_size'].unique()}')\n",
    "print(f'Floor values:{gharderi_df['floors'].unique()}')"
   ]
  },
  {
   "cell_type": "markdown",
   "id": "f340b319-fb88-4de5-8677-0c41c971d3ba",
   "metadata": {},
   "source": [
    "##### From the above obseravtion we see there are few irelevent valuese so we shoup find the percentage that they cover and replace or drop those values."
   ]
  },
  {
   "cell_type": "markdown",
   "id": "e646c669-2bcf-4c2a-b2b2-01fb7a581411",
   "metadata": {},
   "source": [
    "Lets make the list of values needed to replace.\n",
    "Facing:select.\n",
    "Bedroom:undefined.\n",
    "Bathroom:undefined.\n",
    "Livingroom:undefined.\n",
    "Kitchen:undefined.\n",
    "Parking:undeifned.\n",
    "Road size:east,only.\n",
    "floor values:undefined,5+,9+."
   ]
  },
  {
   "cell_type": "code",
   "execution_count": 37,
   "id": "90dda9d2-c24d-4b87-9977-52535e8b0a7a",
   "metadata": {},
   "outputs": [
    {
     "name": "stdout",
     "output_type": "stream",
     "text": [
      "Pct of wrong values(Select):1.8867924528301887\n",
      "Pct of Bedroom wrong values(undefined):0.5145797598627788\n",
      "Pct of Bathroom wrong vales(undefined): 0.42881646655231564\n",
      "pct of Livingroom wrong vales(undefined): 0.8576329331046313\n",
      "Pct of Kitchen wrong values(undefined): 0.8576329331046313\n",
      "Pct of Parking wrong values(undefined): 10.548885077186965\n",
      "Pct of Road_sizewrong value Values(east): 0.08576329331046312\n",
      "Pct of Road_sizewrong value Values(only): 0.17152658662092624\n",
      "Pct of Floor wrong values(undefined):0.8576329331046313\n",
      "Pct of Floor wrong values(5+):0.8576329331046313\n",
      "Pct of Floor wrong values(9+):0.17152658662092624\n"
     ]
    }
   ],
   "source": [
    "print(f'Pct of wrong values(Select):{(gharderi_df['facing'].value_counts()['Select']/len(gharderi_df['facing'])*100)}')\n",
    "print(f'Pct of Bedroom wrong values(undefined):{(gharderi_df['no_of_bedroom'].value_counts()['undefined']/len(gharderi_df['no_of_bedroom'])*100)}')\n",
    "print(f'Pct of Bathroom wrong vales(undefined): {(gharderi_df['no_of_bathroom'].value_counts()['undefined']/len(gharderi_df['no_of_bathroom'])*100)}')\n",
    "print(f'pct of Livingroom wrong vales(undefined): {(gharderi_df['no_of_livingroom'].value_counts()['undefined']/len(gharderi_df['no_of_livingroom'])*100)}')\n",
    "print(f'Pct of Kitchen wrong values(undefined): {(gharderi_df['no_of_kitchen'].value_counts()['undefined']/len(gharderi_df['no_of_kitchen'])*100)}')\n",
    "print(f'Pct of Parking wrong values(undefined): {(gharderi_df['parking'].value_counts()['undefined']/len(gharderi_df['parking'])*100)}')\n",
    "print(f'Pct of Road_sizewrong value Values(east): {(gharderi_df['road_size'].value_counts()['East']/len(gharderi_df['road_size'])*100)}')\n",
    "print(f'Pct of Road_sizewrong value Values(only): {(gharderi_df['road_size'].value_counts()['Only']/len(gharderi_df['road_size'])*100)}')\n",
    "print(f'Pct of Floor wrong values(undefined):{(gharderi_df['floors'].value_counts()['undefined']/len(gharderi_df['floors'])*100)}')\n",
    "print(f'Pct of Floor wrong values(5+):{(gharderi_df['floors'].value_counts()['5+']/len(gharderi_df['floors'])*100)}')\n",
    "print(f'Pct of Floor wrong values(9+):{(gharderi_df['floors'].value_counts()['9+']/len(gharderi_df['floors'])*100)}')"
   ]
  },
  {
   "cell_type": "code",
   "execution_count": 38,
   "id": "63b5599a-7ee4-4e7f-9542-d2eb170d994d",
   "metadata": {},
   "outputs": [
    {
     "name": "stdout",
     "output_type": "stream",
     "text": [
      "The shape of df(Gharderi) before data removal is :(1166, 11)\n"
     ]
    }
   ],
   "source": [
    "print(f'The shape of df(Gharderi) before data removal is :{gharderi_df.shape}')"
   ]
  },
  {
   "cell_type": "code",
   "execution_count": 39,
   "id": "511c3795-794a-4c96-8560-20943639a287",
   "metadata": {},
   "outputs": [],
   "source": [
    "#since the values of wrong inputs are less the a percentage in one and is quite less so we can drop those values.\n",
    "gharderi_df=gharderi_df[gharderi_df['facing']!='Select']\n",
    "gharderi_df=gharderi_df[gharderi_df['no_of_bedroom']!='undefined']\n",
    "gharderi_df=gharderi_df[gharderi_df['no_of_bathroom']!='undefined']\n",
    "gharderi_df=gharderi_df[gharderi_df['no_of_livingroom']!='undefined']\n",
    "gharderi_df=gharderi_df[gharderi_df['no_of_kitchen']!='undefined']\n",
    "gharderi_df=gharderi_df[gharderi_df['parking']!='undefined']\n",
    "gharderi_df=gharderi_df[gharderi_df['road_size']!='East']\n",
    "gharderi_df=gharderi_df[gharderi_df['road_size']!='Only']\n",
    "gharderi_df=gharderi_df[gharderi_df['floors']!='undefined']\n",
    "gharderi_df=gharderi_df[gharderi_df['floors']!='5+']\n",
    "gharderi_df=gharderi_df[gharderi_df['floors']!='9+']"
   ]
  },
  {
   "cell_type": "code",
   "execution_count": 40,
   "id": "af8045c5-a353-49e1-977f-dc5652e8ccb5",
   "metadata": {},
   "outputs": [],
   "source": [
    "gharderi_df['no_of_bedroom']=gharderi_df['no_of_bedroom'].str.split('-').str[0]\n",
    "gharderi_df['no_of_bedroom']=gharderi_df['no_of_bedroom'].str.split('+').str[0]"
   ]
  },
  {
   "cell_type": "code",
   "execution_count": 41,
   "id": "7893a247-1508-4089-bc44-a126894fa876",
   "metadata": {},
   "outputs": [
    {
     "name": "stdout",
     "output_type": "stream",
     "text": [
      "The shape of df(Gharderi) after data removal is :(994, 11)\n"
     ]
    }
   ],
   "source": [
    "print(f'The shape of df(Gharderi) after data removal is :{gharderi_df.shape}')"
   ]
  },
  {
   "cell_type": "code",
   "execution_count": 42,
   "id": "41709637-3cfd-48e2-932c-3bdb97e2e4fb",
   "metadata": {},
   "outputs": [
    {
     "name": "stdout",
     "output_type": "stream",
     "text": [
      "Facing lists:['3 ana 1 paisa' '4 Aana 1 Paisa' '3 Aana 2 Daam' '10 Aana' '7 aana'\n",
      " '4 aana' '4 Aana' '2.5 Aana' '7 Aana' '4 Aana 3 Paisa' '4.5 Aana' '3anna'\n",
      " '3.5 aana' '1.5 Aana' '5.5 Aana' '5.5 aana' '6.6' '6anna'\n",
      " '4 Anna 1 paisa' '4.5 aana' '5 Aana' '3 Aana 3 Paisa' '3 Aana 1 Daam'\n",
      " '6 aana' '3 Aana 2 Paisa' '3 aana' '4 Aana 1 Paisa 2 Daam' '5 aana'\n",
      " '3 Aana 1 Paisa 1 Daam' '5 Anna' '4 aana 1 paisa 1 dam' '4 Anna 2 Paisa'\n",
      " '0' '3 anna 2 paisa' '5. Anna 2 Paisa / 5 Anna 2 paisa 2 dam' '3.45'\n",
      " '4 anna 2 dam' '3.5' '14ana' '3 Aana 1 Paisa 2 Daam' '14' '5 Aana 1 Daam'\n",
      " '5 Aana 1 Paisa' '6.1 Aana' '3 Aana' '3 Aana 2 Paisa 2 Daam'\n",
      " '3 Aana 1.5 Daam' '3 Aana 1 Paisa' '7' '3.5 Aana' '4 ana 1 dam'\n",
      " '16 Aana 1 Ropani' '0-5-1-3' '8.2 ana' '6 Aana' '3 aana 3 paisa 3 dam'\n",
      " '4 Anna 1 Daam' '6 Anna 1 Paisa' '3 Anna 3 Paisa' '3 Anna 2 Paisa'\n",
      " '4anna' '3 ana' '3 Anna 2 Dam' '3 Anna, 3 Paisa, 3 Dam' '4.5anna'\n",
      " '1069.5' '2 Aana 3 Paisa' '3 aana 1 paisa 1 dam' '4 Anna 2 Daam'\n",
      " '3Anna 1Paisa' '5.5 Anna' '5' '3 aana 2 paisa' 'Nepal' '3/2/2000'\n",
      " '2/3/2000' '2/1/2003' '10 aana 3 paisa' '3 Anna 3 pasia' '3.1'\n",
      " '3aana 2paisa' '3aana 2daam' '5.2 Anna' '6 anna 2 paisa' '3 aana 2paisa'\n",
      " '9 dhur' '0-4-3-0' '2aana 3paisa' '3 ana 3 dam' '4.75 aana'\n",
      " '3ana 1 paisa' '4aana 2daam' '3 aana 2p2d' '4 anna' '3 aana 1paisa 2daam'\n",
      " '2aana3paisa' '4 aana2paisa' '2.5aana' '4aana2daam' '4 aana1paisa'\n",
      " '12aana 2daam' '3 aana1paisa' '4aana1paisa' '4aana 2 daam' '0-3-1-1'\n",
      " '5ANA 1 PAISA' '3 aana 3 daam' '4 aana 2 daam' '0-2-2-1' '7aana' '3 Anaa'\n",
      " '4.5 ana' '3 aana 3 paisa' '2 aana 2 paisa' '7 aana3paisa' '3ana3pais'\n",
      " '7 aana 2 paisa' '4 aana 3 paisa 3 daam' '1 ropani 4 aana'\n",
      " '2 ropani 2 aana' '1 ropani' '9 aana' '13 aana' '13 aana 3 paisa'\n",
      " '4 aana 1 paisa 1 daam' '17 Ropani' '14 aana 1 daam' '15 Aana' '3.5aana'\n",
      " '8.5' '17 Aana' '4.1 Aana' '3 aana 3 paisa 3 daam' '1 Ropani'\n",
      " '4 aana 1 paisa 2 daam' '3 aana 1 daam' '4.3' '19 Aana' '3 aana 1 paisa'\n",
      " '6 aana 1 paisa' '8 aana 3 paisa' '30.5 anna' '4 aana 1 Paisa 2 Daam'\n",
      " '3 anna' '3 aana 2 daam' '10 aana' '4 Aana 3 Daam'\n",
      " '3 aana 1 paisa 2 daam' '3 aana 5 paisa' '8 aana' '1 ropani 2 aana'\n",
      " '12 aana' '5 aana 2 paisa' '15 aana 1 paisa' '3 Ana 2 Dam' '2.5'\n",
      " '8 aana 2 paisa' '1 ropani 3 aana 2 paisa' '115 sq m' '6anna2paisa'\n",
      " '3 aana 3 dam' '3Aana' '2 Aana 2 paisa' '11 Ana' '3 Aana 2 Poisa 2 Daam'\n",
      " 'approx. 14 aana' '2Aana 3poisa 2daam' '3 Aana 1 Poisa 2 Daam'\n",
      " '4Aana 1 Poisa' '4 Aana 2 Daam' '2 Aana 3 Poisa' '5 Aana 1 Poisa'\n",
      " '3 Aana 2Poisa' '3 Aana 1 Poisa' '4 Aana 2 poisa' '3Aana 1Poisa'\n",
      " '0-3-1-0' '2 Aana 3 Paisa 2 Daam' '2 Aana 2 Paisa 2 Daam'\n",
      " '5 Aana 2 Paisa 2 Daam' '3 Aana 1 Pais' '4 Aana 1 Daam'\n",
      " '3 Aana 2 Paisa 1 Daam' '20 Aanna' '1155.3' '8 aana 1 daam'\n",
      " '4 aana 2 paisa' '13 Ropani' '3 Aana ! Daam' '0-5-1-1'\n",
      " '6-3-1-0 2023 sq ft' '9.3188 aana / 3189.375 sq.ft.' '0-4-2-0' '11 aana'\n",
      " '3 Ana 1 paisa' '4anna2dam' '10anna' '5 Ana' '4.1 aana' '3.75 anna'\n",
      " '5 aana 1 paisa' '5 aana 2 paisa 2 daam' '4 Kattha' '8 aana 1 paisa'\n",
      " '3aana' '4aana' '3 aana 2 paisa 2 dam' '4 aana 1 paisa'\n",
      " '3 aana 1 paisa 2 dam' '2.5 aana' '0-4-0-0' '6.5 anna'\n",
      " '2 aana 3 paisa 1 dam' '2aana 3 paisa 2dam' '4.2 aana' '15 dhur'\n",
      " '4 aana 1.5 dam' '2 aana 3 paisa' '2 anna 3 paisa' '6 aana 2 paisa'\n",
      " '800 sqft' '6ana3dam' '4anna 1 paisa' '1500 Sqft' '3657.8' '700 sqft'\n",
      " '12anna' '4aana 2 dam' '3.1.2' '1280' '5anna' '3.50anna' '3.5ana' '1615'\n",
      " '3Anna' '8 aana/3200 sq ft.' '0-10-0-1' '900 sqft' '4.39 ana' '0-3-1'\n",
      " '18 Anna' '2.5ana' '14.5 Dhur' '1kattha' '1200 sqft' '4anna,5anna'\n",
      " '2/2/2002' '16' '3.75 aana' '2227 sq ft' '0-2-2-0' '0-2-3-0' '0-3-3-0'\n",
      " '0-3-0-1' '0-3-0-2' '2000 Sqft' '6 anna' '11 aana 2 paisa' '2300sqft'\n",
      " '0-3-2-0' '11 Aana' '2 aana' '3 Anna' '3.2 aana' '2.50anna' '28 Aana'\n",
      " '8 Aana' '24 aana' '3' '1000 sqft' '1100 sqft' '0-4-2-0 aana' '1300 sqft'\n",
      " '15.2 aana' '7 Ana +' '6' '10' '10.75 dhur' '0-3-0-3' '3.75' '5814' '2,5'\n",
      " '2.3' '5.5' '13' '13.84 anna' '6 Aana 2 Paisa 2 Daam' '26.5 dhur' '1361'\n",
      " '2560' '7.2' '7.5. Anna' '4.25 Aana' '2.85 aanas' '9.25 aanas' '5.5 dhur'\n",
      " '12 dhur' '0-10-0-0' '4.25 aana' '5.5aana' '22 Dhur' '1070' '0-6-2-3.066'\n",
      " '22' '7 dhur' '4.75' '9 .85 aana' '5/2/2003' '0-6-2-0' '1800 sqft'\n",
      " '0-4-1-2' '126.15 sqmt' '4 aana / 2 paisa' '5 aana 1 paisa 3daam'\n",
      " '0-5-0-0' '1711 Sqft' '3/1/2001' '6aana' '4.5 - 11 aana' '0-8-1-2'\n",
      " '4.5 anna' '3.2' '6.5 ana' '3800 Sq feet' '29' '4.5' '3.8' '3.3.2' '3.3'\n",
      " '4.1' '3 kattha' '2203.22' '3 kattha 4 dhur' '8.1' '11' '8' '6.3' '20'\n",
      " '10.5' '9' '4.1.2' '6.02' '4' '7 anna' '1200sqft' '1020 sqft' '3.1 Aana'\n",
      " '5 Aaana' '1205' '23.004sqt' '1275.75' '4 Ana' '1822.5' '3 aana 1 dam'\n",
      " '7 aana 1 paisa' '9.5 aana' '6ana' '0-2-2-2 Ropani' '3aana3paisa'\n",
      " '0-7-2-3.14' '4 ana 2 dam' '2 kattha' '0-5-2-0' '3 aana 2 dam' '3.5 Anna'\n",
      " '6 ana 1 paisa chanchun' '2 aana 2 paisa 2 dam' '2053.5 aqft' '1600 Sqft'\n",
      " '3 aana 1 Paisa' nan '4 aana 1 paisa 2 dam' '0-10-00-00' '0-3-1-2'\n",
      " '12 aanaa' '5 aana 3 paisa' '3ana 4 paisa' '8.1 Aana'\n",
      " '3 aana 4 paisa 1 daam' '4 aana 5 paisa' '0-4-1-3' '0-3-0-0' '0-8-2-0'\n",
      " '3.3.1 Aana' '5.1 aana' '0-4-3 -0' '26 dhur (13.8 aana)' '0-8-3-1'\n",
      " '8 and half aana' '9.5 Dhur' '5.45 anna' '3/1/2002' '10 anna'\n",
      " '1 Anna 2 paisa' '4 anna 3 paisa' '25.2 square ft' '7 / 2395.75'\n",
      " '0-9-0-0.39' '3645' '7290' '90.2square meter' '500 Sqft' '0-4-0-3.79'\n",
      " '1711.25' '1540.125' '15.97 ana' '15 Haat' '4 Anna' '0-8-0-0' '0-7-1-0'\n",
      " '0-3-2-1' '0-9-0-0' '4 aana 3 paisa' '151.25' '10 Anna' '3.5 anna'\n",
      " '18 Dhur' '3 aaana' '0-4-2-1' '14 ana' '5-Apr' '2.2aana' '1-3-0-0'\n",
      " '3.1 aana' '898.44' '3080 Sqft' '15.2 Aana' '5aana 2dam' '3aana 1dam'\n",
      " '6.25' '2.75 aana' '9.24' '4 aana 1 dam' '3.5 ana' '1197.87' '5aana'\n",
      " '11.5 Anna' '3Aana 2Dam' '4 aana 3 paisa 1 daam' '1 kattha' '7.2 aana'\n",
      " '34 Aana' '7.2Aana' '9.2 Aana' '4.2 Aana' '1440' '15 Dhur' '4 ana'\n",
      " '6.2 aana' '1863 Sqft' '4anna 3.77 dam' '6.5 Anna' '4.2 ana' '5. 5 anna'\n",
      " '8 aana 2 paisa 2 daam' '1750' '4 annna' '3.1 Ana' '4ana' '5.5ana'\n",
      " '4.1paisa' '10/317.90' '4.2' '3-4 anna' '6.1 aana' '32 aana' '63.58'\n",
      " '4 aana 2 dam' '6-7.5 aana' '0-4-2-2' '1194' '0-6-0-0' '0-12-0-0' '2151'\n",
      " '3380 sq ft' '11 anna 1 Paisa, 3800 sq ft' '18 aana' '0-2-3-2' '1027'\n",
      " '1500 Sqft +' '1.5 ropani' '0-5-2-2' '8 dhur' '9anna' '0-0-0-0' '0-5-2-3']\n"
     ]
    }
   ],
   "source": [
    "print(f'Facing lists:{gharderi_df['area'].unique()}')\n"
   ]
  },
  {
   "cell_type": "code",
   "execution_count": 43,
   "id": "d3fc2d78-09f6-4bca-8db4-8b1a77ad8db7",
   "metadata": {},
   "outputs": [],
   "source": [
    "gharderi_df['area']=gharderi_df['area'].apply(convert_to_sqft)"
   ]
  },
  {
   "cell_type": "code",
   "execution_count": 44,
   "id": "773c4a35-b18b-479e-9ca2-f7de6a857883",
   "metadata": {},
   "outputs": [],
   "source": [
    "gharderi_df['area']=gharderi_df['area'].replace('0.0','')"
   ]
  },
  {
   "cell_type": "code",
   "execution_count": 45,
   "id": "b28b5bde-77f0-49f5-9b46-7167ffdd04fb",
   "metadata": {},
   "outputs": [
    {
     "data": {
      "text/plain": [
       "price                 0\n",
       "location              2\n",
       "area                224\n",
       "facing                0\n",
       "no_of_bedroom         0\n",
       "no_of_bathroom        0\n",
       "no_of_livingroom      0\n",
       "no_of_kitchen         0\n",
       "parking               0\n",
       "road_size             0\n",
       "floors                0\n",
       "dtype: int64"
      ]
     },
     "execution_count": 45,
     "metadata": {},
     "output_type": "execute_result"
    }
   ],
   "source": [
    "gharderi_df.isnull().sum()"
   ]
  },
  {
   "cell_type": "code",
   "execution_count": 46,
   "id": "16145771-a9e8-44ee-a4b8-86dfd9f9fdaa",
   "metadata": {},
   "outputs": [],
   "source": [
    "gharderi_df=gharderi_df.dropna()"
   ]
  },
  {
   "cell_type": "code",
   "execution_count": 47,
   "id": "f54546ca-32f0-4837-8d58-746377e3583b",
   "metadata": {},
   "outputs": [
    {
     "data": {
      "text/plain": [
       "price               0\n",
       "location            0\n",
       "area                0\n",
       "facing              0\n",
       "no_of_bedroom       0\n",
       "no_of_bathroom      0\n",
       "no_of_livingroom    0\n",
       "no_of_kitchen       0\n",
       "parking             0\n",
       "road_size           0\n",
       "floors              0\n",
       "dtype: int64"
      ]
     },
     "execution_count": 47,
     "metadata": {},
     "output_type": "execute_result"
    }
   ],
   "source": [
    "gharderi_df.isnull().sum()"
   ]
  },
  {
   "cell_type": "code",
   "execution_count": 48,
   "id": "fa103f13-9fd8-4e03-9376-9a394175e8b4",
   "metadata": {},
   "outputs": [
    {
     "data": {
      "text/html": [
       "<div>\n",
       "<style scoped>\n",
       "    .dataframe tbody tr th:only-of-type {\n",
       "        vertical-align: middle;\n",
       "    }\n",
       "\n",
       "    .dataframe tbody tr th {\n",
       "        vertical-align: top;\n",
       "    }\n",
       "\n",
       "    .dataframe thead th {\n",
       "        text-align: right;\n",
       "    }\n",
       "</style>\n",
       "<table border=\"1\" class=\"dataframe\">\n",
       "  <thead>\n",
       "    <tr style=\"text-align: right;\">\n",
       "      <th></th>\n",
       "      <th>price</th>\n",
       "      <th>location</th>\n",
       "      <th>area</th>\n",
       "      <th>facing</th>\n",
       "      <th>no_of_bedroom</th>\n",
       "      <th>no_of_bathroom</th>\n",
       "      <th>no_of_livingroom</th>\n",
       "      <th>no_of_kitchen</th>\n",
       "      <th>parking</th>\n",
       "      <th>road_size</th>\n",
       "      <th>floors</th>\n",
       "    </tr>\n",
       "  </thead>\n",
       "  <tbody>\n",
       "    <tr>\n",
       "      <th>1</th>\n",
       "      <td>25000000</td>\n",
       "      <td>Imadol</td>\n",
       "      <td>256.680</td>\n",
       "      <td>South</td>\n",
       "      <td>7</td>\n",
       "      <td>4</td>\n",
       "      <td>2</td>\n",
       "      <td>2</td>\n",
       "      <td>8</td>\n",
       "      <td>13</td>\n",
       "      <td>3</td>\n",
       "    </tr>\n",
       "    <tr>\n",
       "      <th>4</th>\n",
       "      <td>38000000</td>\n",
       "      <td>Imadol</td>\n",
       "      <td>169.012</td>\n",
       "      <td>East</td>\n",
       "      <td>7</td>\n",
       "      <td>5</td>\n",
       "      <td>2</td>\n",
       "      <td>2</td>\n",
       "      <td>16</td>\n",
       "      <td>13</td>\n",
       "      <td>3.5</td>\n",
       "    </tr>\n",
       "    <tr>\n",
       "      <th>5</th>\n",
       "      <td>32000000</td>\n",
       "      <td>Imadol</td>\n",
       "      <td>126.759</td>\n",
       "      <td>East</td>\n",
       "      <td>5</td>\n",
       "      <td>4</td>\n",
       "      <td>2</td>\n",
       "      <td>2</td>\n",
       "      <td>13</td>\n",
       "      <td>13</td>\n",
       "      <td>3</td>\n",
       "    </tr>\n",
       "    <tr>\n",
       "      <th>6</th>\n",
       "      <td>115000000</td>\n",
       "      <td>Sinamangal</td>\n",
       "      <td>422.530</td>\n",
       "      <td>West</td>\n",
       "      <td>4</td>\n",
       "      <td>3</td>\n",
       "      <td>2</td>\n",
       "      <td>1</td>\n",
       "      <td>10</td>\n",
       "      <td>20Ft</td>\n",
       "      <td>2</td>\n",
       "    </tr>\n",
       "    <tr>\n",
       "      <th>7</th>\n",
       "      <td>40000000</td>\n",
       "      <td>Harisiddhi</td>\n",
       "      <td>295.771</td>\n",
       "      <td>East</td>\n",
       "      <td>6</td>\n",
       "      <td>4</td>\n",
       "      <td>2</td>\n",
       "      <td>2</td>\n",
       "      <td>14</td>\n",
       "      <td>13</td>\n",
       "      <td>2.5</td>\n",
       "    </tr>\n",
       "  </tbody>\n",
       "</table>\n",
       "</div>"
      ],
      "text/plain": [
       "       price    location     area facing no_of_bedroom no_of_bathroom  \\\n",
       "1   25000000      Imadol  256.680  South             7              4   \n",
       "4   38000000      Imadol  169.012   East             7              5   \n",
       "5   32000000      Imadol  126.759   East             5              4   \n",
       "6  115000000  Sinamangal  422.530   West             4              3   \n",
       "7   40000000  Harisiddhi  295.771   East             6              4   \n",
       "\n",
       "  no_of_livingroom no_of_kitchen parking road_size floors  \n",
       "1                2             2       8        13      3  \n",
       "4                2             2      16        13    3.5  \n",
       "5                2             2      13        13      3  \n",
       "6                2             1      10      20Ft      2  \n",
       "7                2             2      14        13    2.5  "
      ]
     },
     "execution_count": 48,
     "metadata": {},
     "output_type": "execute_result"
    }
   ],
   "source": [
    "gharderi_df.head()"
   ]
  },
  {
   "cell_type": "markdown",
   "id": "57611227-8b6d-46d8-97f3-dd5c5bd43f49",
   "metadata": {},
   "source": [
    "---------------------------------------------------------------------------------------------------------------------------------------------------------"
   ]
  },
  {
   "cell_type": "markdown",
   "id": "5e1f1fc6-c307-4e5e-8059-a0a7d2165c09",
   "metadata": {},
   "source": [
    "# GharSansar"
   ]
  },
  {
   "cell_type": "code",
   "execution_count": 49,
   "id": "fb1d94ec-b267-4d24-85f6-0c2af533a21d",
   "metadata": {},
   "outputs": [],
   "source": [
    "gharsansar_df=pd.read_csv(r\"D:\\Housing Project\\Data Collection\\Gharsansar\\Ghar_sansar_raw.csv\")"
   ]
  },
  {
   "cell_type": "code",
   "execution_count": 50,
   "id": "2e181291-4ef4-4f80-a219-1a723a0db499",
   "metadata": {},
   "outputs": [
    {
     "data": {
      "text/html": [
       "<div>\n",
       "<style scoped>\n",
       "    .dataframe tbody tr th:only-of-type {\n",
       "        vertical-align: middle;\n",
       "    }\n",
       "\n",
       "    .dataframe tbody tr th {\n",
       "        vertical-align: top;\n",
       "    }\n",
       "\n",
       "    .dataframe thead th {\n",
       "        text-align: right;\n",
       "    }\n",
       "</style>\n",
       "<table border=\"1\" class=\"dataframe\">\n",
       "  <thead>\n",
       "    <tr style=\"text-align: right;\">\n",
       "      <th></th>\n",
       "      <th>price</th>\n",
       "      <th>location</th>\n",
       "      <th>area</th>\n",
       "      <th>facing</th>\n",
       "      <th>no_of_bedroom</th>\n",
       "      <th>no_of_bathroom</th>\n",
       "      <th>no_of_livingroom</th>\n",
       "      <th>no_of_kitchen</th>\n",
       "      <th>parking</th>\n",
       "      <th>road_size</th>\n",
       "      <th>road_type</th>\n",
       "      <th>land_size</th>\n",
       "    </tr>\n",
       "  </thead>\n",
       "  <tbody>\n",
       "    <tr>\n",
       "      <th>0</th>\n",
       "      <td>Crore</td>\n",
       "      <td>Ramkot</td>\n",
       "      <td>: 2</td>\n",
       "      <td>WEST-NORTH</td>\n",
       "      <td>Paisa</td>\n",
       "      <td>1.0</td>\n",
       "      <td>2.0</td>\n",
       "      <td>1.0</td>\n",
       "      <td>1 Car &amp; 5 Bikes</td>\n",
       "      <td>:</td>\n",
       "      <td>Concrete</td>\n",
       "      <td>4 Anna 1 Paisa</td>\n",
       "    </tr>\n",
       "    <tr>\n",
       "      <th>1</th>\n",
       "      <td>45,000,000/-</td>\n",
       "      <td>Buddhanilkantha</td>\n",
       "      <td>2930 Sq.ft</td>\n",
       "      <td>SOUTH-WEST</td>\n",
       "      <td>5</td>\n",
       "      <td>4.0</td>\n",
       "      <td>3.0</td>\n",
       "      <td>1.0</td>\n",
       "      <td>2 Cars &amp; 3 Bikes</td>\n",
       "      <td>13</td>\n",
       "      <td>Gravel</td>\n",
       "      <td>5 Anna</td>\n",
       "    </tr>\n",
       "    <tr>\n",
       "      <th>2</th>\n",
       "      <td>(negotiable)</td>\n",
       "      <td>Lalitpur</td>\n",
       "      <td>NaN</td>\n",
       "      <td>Shrestha</td>\n",
       "      <td>NaN</td>\n",
       "      <td>NaN</td>\n",
       "      <td>NaN</td>\n",
       "      <td>NaN</td>\n",
       "      <td>NaN</td>\n",
       "      <td>NaN</td>\n",
       "      <td>NaN</td>\n",
       "      <td>NaN</td>\n",
       "    </tr>\n",
       "    <tr>\n",
       "      <th>3</th>\n",
       "      <td>(negotiable)</td>\n",
       "      <td>Lalitpur</td>\n",
       "      <td>NaN</td>\n",
       "      <td>Shrestha</td>\n",
       "      <td>NaN</td>\n",
       "      <td>NaN</td>\n",
       "      <td>NaN</td>\n",
       "      <td>NaN</td>\n",
       "      <td>NaN</td>\n",
       "      <td>NaN</td>\n",
       "      <td>NaN</td>\n",
       "      <td>NaN</td>\n",
       "    </tr>\n",
       "    <tr>\n",
       "      <th>4</th>\n",
       "      <td>63,500,000/-</td>\n",
       "      <td>Buddhanilkantha</td>\n",
       "      <td>3215 Sq.ft</td>\n",
       "      <td>EAST-NORTH</td>\n",
       "      <td>6</td>\n",
       "      <td>5.0</td>\n",
       "      <td>3.0</td>\n",
       "      <td>1.0</td>\n",
       "      <td>2 Car &amp; 5 Bikes</td>\n",
       "      <td>13</td>\n",
       "      <td>Gravel</td>\n",
       "      <td>8.5 Anna</td>\n",
       "    </tr>\n",
       "  </tbody>\n",
       "</table>\n",
       "</div>"
      ],
      "text/plain": [
       "          price         location        area      facing no_of_bedroom  \\\n",
       "0         Crore           Ramkot         : 2  WEST-NORTH         Paisa   \n",
       "1  45,000,000/-  Buddhanilkantha  2930 Sq.ft  SOUTH-WEST             5   \n",
       "2  (negotiable)         Lalitpur         NaN    Shrestha           NaN   \n",
       "3  (negotiable)         Lalitpur         NaN    Shrestha           NaN   \n",
       "4  63,500,000/-  Buddhanilkantha  3215 Sq.ft  EAST-NORTH             6   \n",
       "\n",
       "   no_of_bathroom  no_of_livingroom  no_of_kitchen           parking  \\\n",
       "0             1.0               2.0            1.0   1 Car & 5 Bikes   \n",
       "1             4.0               3.0            1.0  2 Cars & 3 Bikes   \n",
       "2             NaN               NaN            NaN               NaN   \n",
       "3             NaN               NaN            NaN               NaN   \n",
       "4             5.0               3.0            1.0   2 Car & 5 Bikes   \n",
       "\n",
       "  road_size road_type       land_size  \n",
       "0         :  Concrete  4 Anna 1 Paisa  \n",
       "1        13    Gravel          5 Anna  \n",
       "2       NaN       NaN             NaN  \n",
       "3       NaN       NaN             NaN  \n",
       "4        13    Gravel        8.5 Anna  "
      ]
     },
     "execution_count": 50,
     "metadata": {},
     "output_type": "execute_result"
    }
   ],
   "source": [
    "gharsansar_df.head()"
   ]
  },
  {
   "cell_type": "code",
   "execution_count": 51,
   "id": "a6292648-5768-4f5d-b1a0-d470e84c86cd",
   "metadata": {},
   "outputs": [
    {
     "name": "stdout",
     "output_type": "stream",
     "text": [
      "<class 'pandas.core.frame.DataFrame'>\n",
      "RangeIndex: 450 entries, 0 to 449\n",
      "Data columns (total 12 columns):\n",
      " #   Column            Non-Null Count  Dtype  \n",
      "---  ------            --------------  -----  \n",
      " 0   price             450 non-null    object \n",
      " 1   location          450 non-null    object \n",
      " 2   area              300 non-null    object \n",
      " 3   facing            450 non-null    object \n",
      " 4   no_of_bedroom     300 non-null    object \n",
      " 5   no_of_bathroom    300 non-null    float64\n",
      " 6   no_of_livingroom  300 non-null    float64\n",
      " 7   no_of_kitchen     300 non-null    float64\n",
      " 8   parking           300 non-null    object \n",
      " 9   road_size         300 non-null    object \n",
      " 10  road_type         300 non-null    object \n",
      " 11  land_size         300 non-null    object \n",
      "dtypes: float64(3), object(9)\n",
      "memory usage: 42.3+ KB\n"
     ]
    }
   ],
   "source": [
    "gharsansar_df.info()"
   ]
  },
  {
   "cell_type": "code",
   "execution_count": 52,
   "id": "9607c0a8-765c-4abc-9693-e803bd054b8c",
   "metadata": {},
   "outputs": [
    {
     "data": {
      "text/plain": [
       "array(['Crore', '45,000,000/-', '(negotiable)', '63,500,000/-',\n",
       "       '55000000/-', '79,000,000/-', '16000000', '39,500,000/-'],\n",
       "      dtype=object)"
      ]
     },
     "execution_count": 52,
     "metadata": {},
     "output_type": "execute_result"
    }
   ],
   "source": [
    "gharsansar_df['price'].unique()"
   ]
  },
  {
   "cell_type": "code",
   "execution_count": 53,
   "id": "3223beec-adb5-45ca-982b-ff443fc945ba",
   "metadata": {},
   "outputs": [],
   "source": [
    "#lets replace the non relivatant data into NAN or none\n",
    "gharsansar_df['price']=gharsansar_df['price'].replace(['Crore','(negotiable)'],'')"
   ]
  },
  {
   "cell_type": "code",
   "execution_count": 54,
   "id": "0b76c2a9-8451-484a-b0e0-02d770fa64aa",
   "metadata": {},
   "outputs": [],
   "source": [
    "# removing (,/-) from price series\n",
    "gharsansar_df['price']=gharsansar_df['price'].apply(lambda x:x.replace(',','').replace('/','').replace('-',''))"
   ]
  },
  {
   "cell_type": "code",
   "execution_count": 55,
   "id": "0cae2db3-487a-46bd-a667-8186a5dee9d0",
   "metadata": {},
   "outputs": [
    {
     "name": "stdout",
     "output_type": "stream",
     "text": [
      "Unique vales bedroom:['Paisa' '5' nan '6']\n",
      "Unique vales bathroom:[ 1.  4. nan  5.  6.]\n",
      "Unique vales livingroom:[ 2.  3. nan]\n",
      "Unique vales kitchen:[ 1. nan]\n",
      "Unique vales road size:[':' '13' nan '20' '18']\n",
      "Unique vales road size:[': 2' '2930 Sq.ft' nan '3215 Sq.ft' '2755 Sq.ft' '3155 Sq.ft' '1 Paisa']\n"
     ]
    }
   ],
   "source": [
    "print(f'Unique vales bedroom:{gharsansar_df['no_of_bedroom'].unique()}')\n",
    "print(f'Unique vales bathroom:{gharsansar_df['no_of_bathroom'].unique()}')\n",
    "print(f'Unique vales livingroom:{gharsansar_df['no_of_livingroom'].unique()}')\n",
    "print(f'Unique vales kitchen:{gharsansar_df['no_of_kitchen'].unique()}')\n",
    "print(f'Unique vales road size:{gharsansar_df['road_size'].unique()}')\n",
    "print(f'Unique vales road size:{gharsansar_df['area'].unique()}')"
   ]
  },
  {
   "cell_type": "code",
   "execution_count": 56,
   "id": "4a9b1f09-1a2a-4a86-bc19-3c2d233d0fb9",
   "metadata": {},
   "outputs": [],
   "source": [
    "def isnum(x):\n",
    "    try:\n",
    "        float(x)\n",
    "        return True\n",
    "    except ValueError:\n",
    "        return False\n",
    "gharsansar_df['no_of_bedroom']=gharsansar_df['no_of_bedroom'].apply(lambda x:x if isnum(x) else None)   "
   ]
  },
  {
   "cell_type": "code",
   "execution_count": 57,
   "id": "bbbc1eb5-c189-4ef8-9a28-b03e53cdd434",
   "metadata": {},
   "outputs": [],
   "source": [
    "#removing the data into : or no NAN\n",
    "gharsansar_df['road_size']=gharsansar_df['road_size'].apply(lambda x:x if isnum(x) else None)"
   ]
  },
  {
   "cell_type": "code",
   "execution_count": 58,
   "id": "f707ac28-bf35-4001-bb3c-b9f641e64352",
   "metadata": {},
   "outputs": [],
   "source": [
    "#araranging the value.\n",
    "gharsansar_df['road_size']=gharsansar_df['road_size'].replace(': 2','')"
   ]
  },
  {
   "cell_type": "code",
   "execution_count": 59,
   "id": "be43b4b4-4742-4eed-a175-7155f7dd7070",
   "metadata": {},
   "outputs": [],
   "source": [
    "gharsansar_df['area']=gharsansar_df['area'].str.split(' ').str[0]"
   ]
  },
  {
   "cell_type": "code",
   "execution_count": 60,
   "id": "1c103a3d-d9ae-4623-a833-aea02dba7611",
   "metadata": {},
   "outputs": [
    {
     "data": {
      "text/plain": [
       "array(['1 Car & 5 Bikes', '2 Cars & 3 Bikes', nan, '2 Car & 5 Bikes',\n",
       "       '2 Car & 2 Bikes', '3 Car & 4 Bikes', '1 Car & 3 Bikes'],\n",
       "      dtype=object)"
      ]
     },
     "execution_count": 60,
     "metadata": {},
     "output_type": "execute_result"
    }
   ],
   "source": [
    "gharsansar_df['parking'].unique()"
   ]
  },
  {
   "cell_type": "code",
   "execution_count": 61,
   "id": "6daf6eb8-b780-48dd-b22e-a046f378d360",
   "metadata": {},
   "outputs": [],
   "source": [
    "gharsansar_df=gharsansar_df.dropna()"
   ]
  },
  {
   "cell_type": "code",
   "execution_count": 62,
   "id": "7ef17099-362e-48da-af2d-41e66d1e2fa7",
   "metadata": {},
   "outputs": [],
   "source": [
    "cars=gharsansar_df['parking'].str.split(' ').str[0]\n",
    "bikes=gharsansar_df['parking'].str.split(' ').str[3]"
   ]
  },
  {
   "cell_type": "code",
   "execution_count": 63,
   "id": "851b14ce-c332-4f38-8f65-9e6e51c73ade",
   "metadata": {},
   "outputs": [
    {
     "data": {
      "text/plain": [
       "1      3\n",
       "4      5\n",
       "5      2\n",
       "6      4\n",
       "8      3\n",
       "      ..\n",
       "442    3\n",
       "445    5\n",
       "446    2\n",
       "447    4\n",
       "449    3\n",
       "Name: parking, Length: 250, dtype: int64"
      ]
     },
     "execution_count": 63,
     "metadata": {},
     "output_type": "execute_result"
    }
   ],
   "source": [
    "cars.astype(int)\n",
    "bikes.astype(int)"
   ]
  },
  {
   "cell_type": "code",
   "execution_count": 64,
   "id": "155841ed-27c5-408d-8326-10320c8e20f4",
   "metadata": {},
   "outputs": [],
   "source": [
    "gharsansar_df['parking']=cars*2+bikes"
   ]
  },
  {
   "cell_type": "code",
   "execution_count": 65,
   "id": "5d59355a-a291-4e2b-b80f-6d94e14dc8b0",
   "metadata": {},
   "outputs": [
    {
     "data": {
      "text/html": [
       "<div>\n",
       "<style scoped>\n",
       "    .dataframe tbody tr th:only-of-type {\n",
       "        vertical-align: middle;\n",
       "    }\n",
       "\n",
       "    .dataframe tbody tr th {\n",
       "        vertical-align: top;\n",
       "    }\n",
       "\n",
       "    .dataframe thead th {\n",
       "        text-align: right;\n",
       "    }\n",
       "</style>\n",
       "<table border=\"1\" class=\"dataframe\">\n",
       "  <thead>\n",
       "    <tr style=\"text-align: right;\">\n",
       "      <th></th>\n",
       "      <th>price</th>\n",
       "      <th>location</th>\n",
       "      <th>area</th>\n",
       "      <th>facing</th>\n",
       "      <th>no_of_bedroom</th>\n",
       "      <th>no_of_bathroom</th>\n",
       "      <th>no_of_livingroom</th>\n",
       "      <th>no_of_kitchen</th>\n",
       "      <th>parking</th>\n",
       "      <th>road_size</th>\n",
       "      <th>road_type</th>\n",
       "      <th>land_size</th>\n",
       "    </tr>\n",
       "  </thead>\n",
       "  <tbody>\n",
       "    <tr>\n",
       "      <th>1</th>\n",
       "      <td>45000000</td>\n",
       "      <td>Buddhanilkantha</td>\n",
       "      <td>2930</td>\n",
       "      <td>SOUTH-WEST</td>\n",
       "      <td>5</td>\n",
       "      <td>4.0</td>\n",
       "      <td>3.0</td>\n",
       "      <td>1.0</td>\n",
       "      <td>223</td>\n",
       "      <td>13</td>\n",
       "      <td>Gravel</td>\n",
       "      <td>5 Anna</td>\n",
       "    </tr>\n",
       "    <tr>\n",
       "      <th>4</th>\n",
       "      <td>63500000</td>\n",
       "      <td>Buddhanilkantha</td>\n",
       "      <td>3215</td>\n",
       "      <td>EAST-NORTH</td>\n",
       "      <td>6</td>\n",
       "      <td>5.0</td>\n",
       "      <td>3.0</td>\n",
       "      <td>1.0</td>\n",
       "      <td>225</td>\n",
       "      <td>13</td>\n",
       "      <td>Gravel</td>\n",
       "      <td>8.5 Anna</td>\n",
       "    </tr>\n",
       "    <tr>\n",
       "      <th>5</th>\n",
       "      <td>55000000</td>\n",
       "      <td>Budhanilkantha</td>\n",
       "      <td>2755</td>\n",
       "      <td>SOUTH-WEST</td>\n",
       "      <td>5</td>\n",
       "      <td>5.0</td>\n",
       "      <td>2.0</td>\n",
       "      <td>1.0</td>\n",
       "      <td>222</td>\n",
       "      <td>20</td>\n",
       "      <td>Concrete</td>\n",
       "      <td>5.5 Anna</td>\n",
       "    </tr>\n",
       "    <tr>\n",
       "      <th>6</th>\n",
       "      <td>79000000</td>\n",
       "      <td>Hattigauda</td>\n",
       "      <td>3155</td>\n",
       "      <td>SOUTH-WEST</td>\n",
       "      <td>5</td>\n",
       "      <td>6.0</td>\n",
       "      <td>3.0</td>\n",
       "      <td>1.0</td>\n",
       "      <td>334</td>\n",
       "      <td>13</td>\n",
       "      <td>Gravel</td>\n",
       "      <td>7 Anna 3 Paisa</td>\n",
       "    </tr>\n",
       "    <tr>\n",
       "      <th>8</th>\n",
       "      <td>39500000</td>\n",
       "      <td>Budhanilkantha</td>\n",
       "      <td>1</td>\n",
       "      <td>SOUTH-WEST</td>\n",
       "      <td>5</td>\n",
       "      <td>5.0</td>\n",
       "      <td>2.0</td>\n",
       "      <td>1.0</td>\n",
       "      <td>113</td>\n",
       "      <td>18</td>\n",
       "      <td>Concrete</td>\n",
       "      <td>2081 B.S.</td>\n",
       "    </tr>\n",
       "  </tbody>\n",
       "</table>\n",
       "</div>"
      ],
      "text/plain": [
       "      price         location  area      facing no_of_bedroom  no_of_bathroom  \\\n",
       "1  45000000  Buddhanilkantha  2930  SOUTH-WEST             5             4.0   \n",
       "4  63500000  Buddhanilkantha  3215  EAST-NORTH             6             5.0   \n",
       "5  55000000   Budhanilkantha  2755  SOUTH-WEST             5             5.0   \n",
       "6  79000000       Hattigauda  3155  SOUTH-WEST             5             6.0   \n",
       "8  39500000   Budhanilkantha     1  SOUTH-WEST             5             5.0   \n",
       "\n",
       "   no_of_livingroom  no_of_kitchen parking road_size road_type       land_size  \n",
       "1               3.0            1.0     223        13    Gravel          5 Anna  \n",
       "4               3.0            1.0     225        13    Gravel        8.5 Anna  \n",
       "5               2.0            1.0     222        20  Concrete        5.5 Anna  \n",
       "6               3.0            1.0     334        13    Gravel  7 Anna 3 Paisa  \n",
       "8               2.0            1.0     113        18  Concrete       2081 B.S.  "
      ]
     },
     "execution_count": 65,
     "metadata": {},
     "output_type": "execute_result"
    }
   ],
   "source": [
    "gharsansar_df.head()"
   ]
  },
  {
   "cell_type": "code",
   "execution_count": 66,
   "id": "3c79fb65-0a2f-4e20-a532-1388d1117e91",
   "metadata": {},
   "outputs": [],
   "source": [
    "gharsansar_df=gharsansar_df.drop(columns=['road_type','land_size'])"
   ]
  },
  {
   "cell_type": "markdown",
   "id": "e6292c12-9416-4cba-82fa-b62ec25f5a92",
   "metadata": {},
   "source": [
    "# Combining all DATASETS"
   ]
  },
  {
   "cell_type": "code",
   "execution_count": 67,
   "id": "fceef823-c1e6-4131-9472-fa4bb4308123",
   "metadata": {},
   "outputs": [
    {
     "name": "stdout",
     "output_type": "stream",
     "text": [
      "<class 'pandas.core.frame.DataFrame'>\n",
      "Index: 250 entries, 1 to 449\n",
      "Data columns (total 10 columns):\n",
      " #   Column            Non-Null Count  Dtype  \n",
      "---  ------            --------------  -----  \n",
      " 0   price             250 non-null    object \n",
      " 1   location          250 non-null    object \n",
      " 2   area              250 non-null    object \n",
      " 3   facing            250 non-null    object \n",
      " 4   no_of_bedroom     250 non-null    object \n",
      " 5   no_of_bathroom    250 non-null    float64\n",
      " 6   no_of_livingroom  250 non-null    float64\n",
      " 7   no_of_kitchen     250 non-null    float64\n",
      " 8   parking           250 non-null    object \n",
      " 9   road_size         250 non-null    object \n",
      "dtypes: float64(3), object(7)\n",
      "memory usage: 21.5+ KB\n",
      "Gharsansar:None\n",
      "<class 'pandas.core.frame.DataFrame'>\n",
      "Index: 244 entries, 0 to 283\n",
      "Data columns (total 12 columns):\n",
      " #   Column            Non-Null Count  Dtype  \n",
      "---  ------            --------------  -----  \n",
      " 0   price             244 non-null    int64  \n",
      " 1   location          244 non-null    object \n",
      " 2   area              244 non-null    float64\n",
      " 3   facing            244 non-null    object \n",
      " 4   no_of_bedroom     244 non-null    object \n",
      " 5   no_of_bathroom    244 non-null    object \n",
      " 6   no_of_livingroom  244 non-null    object \n",
      " 7   no_of_kitchen     244 non-null    int64  \n",
      " 8   parking           244 non-null    object \n",
      " 9   road_size         244 non-null    object \n",
      " 10  furniture         244 non-null    object \n",
      " 11  floors            244 non-null    object \n",
      "dtypes: float64(1), int64(2), object(9)\n",
      "memory usage: 24.8+ KB\n",
      "Basobas:None\n",
      "<class 'pandas.core.frame.DataFrame'>\n",
      "Index: 770 entries, 1 to 1165\n",
      "Data columns (total 11 columns):\n",
      " #   Column            Non-Null Count  Dtype  \n",
      "---  ------            --------------  -----  \n",
      " 0   price             770 non-null    object \n",
      " 1   location          770 non-null    object \n",
      " 2   area              770 non-null    float64\n",
      " 3   facing            770 non-null    object \n",
      " 4   no_of_bedroom     770 non-null    object \n",
      " 5   no_of_bathroom    770 non-null    object \n",
      " 6   no_of_livingroom  770 non-null    object \n",
      " 7   no_of_kitchen     770 non-null    object \n",
      " 8   parking           770 non-null    object \n",
      " 9   road_size         770 non-null    object \n",
      " 10  floors            770 non-null    object \n",
      "dtypes: float64(1), object(10)\n",
      "memory usage: 72.2+ KB\n",
      "Gharderi:None\n"
     ]
    }
   ],
   "source": [
    "#arranging similar datastye.\n",
    "print(f'Gharsansar:{gharsansar_df.info()}')\n",
    "print(f'Basobas:{basobas_df.info()}')\n",
    "print(f'Gharderi:{gharderi_df.info()}')"
   ]
  },
  {
   "cell_type": "code",
   "execution_count": 68,
   "id": "c2b19124-42e3-45ff-a69f-a99c09fbc1f7",
   "metadata": {},
   "outputs": [],
   "source": [
    "#arranging the price dtype.\n",
    "gharsansar_df['price']=gharsansar_df['price'].astype(dtype='int')\n",
    "gharderi_df['price']=gharderi_df['price'].astype(dtype='int')"
   ]
  },
  {
   "cell_type": "code",
   "execution_count": 69,
   "id": "0ea0c938-e64c-46cf-bb56-66772bb86e5b",
   "metadata": {},
   "outputs": [],
   "source": [
    "#arranging the area dtype\n",
    "gharsansar_df['area']=gharsansar_df['area'].astype(dtype='float')"
   ]
  },
  {
   "cell_type": "code",
   "execution_count": 70,
   "id": "e0f1f027-70b5-41da-98e2-853f55b869a9",
   "metadata": {},
   "outputs": [],
   "source": [
    "#arranging the d type for bedroom\n",
    "gharsansar_df['no_of_bedroom']=gharsansar_df['no_of_bedroom'].astype(dtype='float')\n",
    "gharderi_df['no_of_bedroom']=gharderi_df['no_of_bedroom'].astype(dtype='float')\n",
    "basobas_df['no_of_bedroom']=basobas_df['no_of_bedroom'].astype(dtype='float')"
   ]
  },
  {
   "cell_type": "code",
   "execution_count": 71,
   "id": "ac48e087-c224-43b7-9af0-53cfab1b145c",
   "metadata": {},
   "outputs": [],
   "source": [
    "gharderi_df['no_of_bathroom']=gharderi_df['no_of_bathroom'].replace('10-Aug','0')\n",
    "gharderi_df['no_of_bathroom']=gharderi_df['no_of_bathroom'].str.split('+').str[0]"
   ]
  },
  {
   "cell_type": "code",
   "execution_count": 72,
   "id": "bf89f561-1733-426a-a04b-288a63bdd078",
   "metadata": {},
   "outputs": [],
   "source": [
    "#arranging the d type for bathroom\n",
    "gharsansar_df['no_of_bathroom']=gharsansar_df['no_of_bathroom'].astype(dtype='float')\n",
    "gharderi_df['no_of_bathroom']=gharderi_df['no_of_bathroom'].astype(dtype='float')\n",
    "basobas_df['no_of_bathroom']=basobas_df['no_of_bathroom'].astype(dtype='float')"
   ]
  },
  {
   "cell_type": "code",
   "execution_count": 73,
   "id": "4c09abb3-b2f3-4520-88e9-4b7e71e5770b",
   "metadata": {},
   "outputs": [],
   "source": [
    "gharderi_df['no_of_livingroom']=gharderi_df['no_of_livingroom'].str.split('+').str[0]"
   ]
  },
  {
   "cell_type": "code",
   "execution_count": 74,
   "id": "41dd911b-e78a-45f7-8d8c-df554fd4d480",
   "metadata": {},
   "outputs": [],
   "source": [
    "#arranging the d type for bathroom\n",
    "gharsansar_df['no_of_livingroom']=gharsansar_df['no_of_livingroom'].astype(dtype='float')\n",
    "gharderi_df['no_of_livingroom']=gharderi_df['no_of_livingroom'].astype(dtype='float')\n",
    "basobas_df['no_of_livingroom']=basobas_df['no_of_livingroom'].astype(dtype='float')"
   ]
  },
  {
   "cell_type": "code",
   "execution_count": 75,
   "id": "bc5c2e55-5e8b-4e21-b358-98e81a68eca6",
   "metadata": {},
   "outputs": [],
   "source": [
    "#arranging the d type for kitchen\n",
    "gharsansar_df['no_of_kitchen']=gharsansar_df['no_of_kitchen'].astype(dtype='float')\n",
    "gharderi_df['no_of_kitchen']=gharderi_df['no_of_kitchen'].astype(dtype='float')\n",
    "basobas_df['no_of_kitchen']=basobas_df['no_of_kitchen'].astype(dtype='float')"
   ]
  },
  {
   "cell_type": "code",
   "execution_count": 76,
   "id": "039db937-642d-4e03-92bc-49fc936449fa",
   "metadata": {},
   "outputs": [],
   "source": [
    "#arranging the d type for kitchen\n",
    "gharsansar_df['no_of_kitchen']=gharsansar_df['no_of_kitchen'].astype(dtype='float')\n",
    "gharderi_df['no_of_kitchen']=gharderi_df['no_of_kitchen'].astype(dtype='float')\n",
    "basobas_df['no_of_kitchen']=basobas_df['no_of_kitchen'].astype(dtype='float')"
   ]
  },
  {
   "cell_type": "code",
   "execution_count": 77,
   "id": "4fb6e3cc-86cc-4e81-97c5-8ed3da2bd03c",
   "metadata": {},
   "outputs": [
    {
     "name": "stdout",
     "output_type": "stream",
     "text": [
      "<class 'pandas.core.frame.DataFrame'>\n",
      "Index: 770 entries, 1 to 1165\n",
      "Data columns (total 11 columns):\n",
      " #   Column            Non-Null Count  Dtype  \n",
      "---  ------            --------------  -----  \n",
      " 0   price             770 non-null    int64  \n",
      " 1   location          770 non-null    object \n",
      " 2   area              770 non-null    float64\n",
      " 3   facing            770 non-null    object \n",
      " 4   no_of_bedroom     770 non-null    float64\n",
      " 5   no_of_bathroom    770 non-null    float64\n",
      " 6   no_of_livingroom  770 non-null    float64\n",
      " 7   no_of_kitchen     770 non-null    float64\n",
      " 8   parking           770 non-null    object \n",
      " 9   road_size         770 non-null    object \n",
      " 10  floors            770 non-null    object \n",
      "dtypes: float64(5), int64(1), object(5)\n",
      "memory usage: 72.2+ KB\n"
     ]
    }
   ],
   "source": [
    "gharderi_df.info()"
   ]
  },
  {
   "cell_type": "code",
   "execution_count": 78,
   "id": "016287b6-3548-4caa-ae19-adb871d5d080",
   "metadata": {},
   "outputs": [],
   "source": [
    "#arranging the d type for floors\n",
    "gharderi_df['floors']=gharderi_df['floors'].astype(dtype='float')\n",
    "basobas_df['floors']=basobas_df['floors'].astype(dtype='float')"
   ]
  },
  {
   "cell_type": "code",
   "execution_count": 79,
   "id": "dec6ce32-73d1-4953-b22b-72692a022861",
   "metadata": {},
   "outputs": [
    {
     "name": "stdout",
     "output_type": "stream",
     "text": [
      "<class 'pandas.core.frame.DataFrame'>\n",
      "Index: 770 entries, 1 to 1165\n",
      "Data columns (total 11 columns):\n",
      " #   Column            Non-Null Count  Dtype  \n",
      "---  ------            --------------  -----  \n",
      " 0   price             770 non-null    int64  \n",
      " 1   location          770 non-null    object \n",
      " 2   area              770 non-null    float64\n",
      " 3   facing            770 non-null    object \n",
      " 4   no_of_bedroom     770 non-null    float64\n",
      " 5   no_of_bathroom    770 non-null    float64\n",
      " 6   no_of_livingroom  770 non-null    float64\n",
      " 7   no_of_kitchen     770 non-null    float64\n",
      " 8   parking           770 non-null    object \n",
      " 9   road_size         770 non-null    object \n",
      " 10  floors            770 non-null    float64\n",
      "dtypes: float64(6), int64(1), object(4)\n",
      "memory usage: 72.2+ KB\n"
     ]
    }
   ],
   "source": [
    "gharderi_df.info()"
   ]
  },
  {
   "cell_type": "code",
   "execution_count": 80,
   "id": "974aa34d-b624-4164-bd72-c96938da08d4",
   "metadata": {},
   "outputs": [
    {
     "data": {
      "text/plain": [
       "1         13\n",
       "4         13\n",
       "5         13\n",
       "6       20Ft\n",
       "7         13\n",
       "        ... \n",
       "1160      12\n",
       "1161      13\n",
       "1162      13\n",
       "1163      12\n",
       "1165      12\n",
       "Name: road_size, Length: 770, dtype: object"
      ]
     },
     "execution_count": 80,
     "metadata": {},
     "output_type": "execute_result"
    }
   ],
   "source": [
    "gharderi_df['road_size']"
   ]
  },
  {
   "cell_type": "code",
   "execution_count": 81,
   "id": "02ca5de2-d191-4e5f-a83b-e75a77ead333",
   "metadata": {},
   "outputs": [
    {
     "data": {
      "text/plain": [
       "(770,)"
      ]
     },
     "execution_count": 81,
     "metadata": {},
     "output_type": "execute_result"
    }
   ],
   "source": [
    "gharderi_df['road_size'].shape"
   ]
  },
  {
   "cell_type": "code",
   "execution_count": 82,
   "id": "085a00e6-2808-4358-8ce1-879226402eb5",
   "metadata": {},
   "outputs": [
    {
     "name": "stdout",
     "output_type": "stream",
     "text": [
      "<class 'pandas.core.frame.DataFrame'>\n",
      "Index: 770 entries, 1 to 1165\n",
      "Data columns (total 11 columns):\n",
      " #   Column            Non-Null Count  Dtype  \n",
      "---  ------            --------------  -----  \n",
      " 0   price             770 non-null    int64  \n",
      " 1   location          770 non-null    object \n",
      " 2   area              770 non-null    float64\n",
      " 3   facing            770 non-null    object \n",
      " 4   no_of_bedroom     770 non-null    float64\n",
      " 5   no_of_bathroom    770 non-null    float64\n",
      " 6   no_of_livingroom  770 non-null    float64\n",
      " 7   no_of_kitchen     770 non-null    float64\n",
      " 8   parking           770 non-null    object \n",
      " 9   road_size         770 non-null    object \n",
      " 10  floors            770 non-null    float64\n",
      "dtypes: float64(6), int64(1), object(4)\n",
      "memory usage: 72.2+ KB\n"
     ]
    }
   ],
   "source": [
    "gharderi_df.info()"
   ]
  },
  {
   "cell_type": "code",
   "execution_count": 83,
   "id": "f8cea68e-8c24-4931-a5d0-0146bc1ef760",
   "metadata": {},
   "outputs": [],
   "source": [
    "\n",
    "def ft_remove(value):\n",
    "    value=value.lower()\n",
    "    if 'ft' in value:\n",
    "        return value.split('ft')[0]\n",
    "    elif 'feet' in value :\n",
    "        return value.split('feet')[0]\n",
    "    elif '-' in value:\n",
    "        return value.split('-')[0]\n",
    "    elif ',' in value:\n",
    "        return round(float(value.split(',')[0]))\n",
    "    elif 'm' in value:\n",
    "        return round(float(value.split('m')[0])*3.28)\n",
    "    elif '+' in value:\n",
    "        return round(float(value.split('+')[0]))\n",
    "    else :\n",
    "        return value\n",
    "        "
   ]
  },
  {
   "cell_type": "code",
   "execution_count": 84,
   "id": "d20e7472-3435-40e6-9850-db0720b3e2e4",
   "metadata": {},
   "outputs": [],
   "source": [
    "gharderi_df['road_size']=gharderi_df['road_size'].apply(ft_remove)"
   ]
  },
  {
   "cell_type": "code",
   "execution_count": 85,
   "id": "40ce2eb3-1951-402a-8402-bef10969bdda",
   "metadata": {
    "scrolled": true
   },
   "outputs": [],
   "source": [
    "#arranging the d type for road size\n",
    "gharsansar_df['road_size']=gharsansar_df['road_size'].astype(dtype='float')\n",
    "gharderi_df['road_size']=gharderi_df['road_size'].astype(dtype='float')\n",
    "basobas_df['road_size']=basobas_df['road_size'].astype(dtype='float')"
   ]
  },
  {
   "cell_type": "markdown",
   "id": "3d3796ef-21b5-4907-8b82-f27ed5982d54",
   "metadata": {},
   "source": [
    "# COMBINING DATASETS"
   ]
  },
  {
   "cell_type": "code",
   "execution_count": 91,
   "id": "33e06afc-a5ef-4006-b1ae-01a958b54019",
   "metadata": {},
   "outputs": [],
   "source": [
    "import matplotlib.pyplot as plt \n",
    "import seaborn as sns"
   ]
  },
  {
   "cell_type": "code",
   "execution_count": 92,
   "id": "0238d364-d391-4779-bf39-fc411e1f04eb",
   "metadata": {},
   "outputs": [],
   "source": [
    "dataset=pd.concat([basobas_df,gharsansar_df,gharderi_df])"
   ]
  },
  {
   "cell_type": "code",
   "execution_count": 93,
   "id": "6fc2aa23-1b7e-4a44-9922-5918ccc501ac",
   "metadata": {},
   "outputs": [
    {
     "data": {
      "text/html": [
       "<div>\n",
       "<style scoped>\n",
       "    .dataframe tbody tr th:only-of-type {\n",
       "        vertical-align: middle;\n",
       "    }\n",
       "\n",
       "    .dataframe tbody tr th {\n",
       "        vertical-align: top;\n",
       "    }\n",
       "\n",
       "    .dataframe thead th {\n",
       "        text-align: right;\n",
       "    }\n",
       "</style>\n",
       "<table border=\"1\" class=\"dataframe\">\n",
       "  <thead>\n",
       "    <tr style=\"text-align: right;\">\n",
       "      <th></th>\n",
       "      <th>price</th>\n",
       "      <th>location</th>\n",
       "      <th>area</th>\n",
       "      <th>facing</th>\n",
       "      <th>no_of_bedroom</th>\n",
       "      <th>no_of_bathroom</th>\n",
       "      <th>no_of_livingroom</th>\n",
       "      <th>no_of_kitchen</th>\n",
       "      <th>parking</th>\n",
       "      <th>road_size</th>\n",
       "      <th>furniture</th>\n",
       "      <th>floors</th>\n",
       "    </tr>\n",
       "  </thead>\n",
       "  <tbody>\n",
       "    <tr>\n",
       "      <th>0</th>\n",
       "      <td>32000000</td>\n",
       "      <td>Shital height</td>\n",
       "      <td>169.539</td>\n",
       "      <td>East</td>\n",
       "      <td>5.0</td>\n",
       "      <td>4.0</td>\n",
       "      <td>2.0</td>\n",
       "      <td>3.0</td>\n",
       "      <td>4.0</td>\n",
       "      <td>13.0</td>\n",
       "      <td>Semi Furnished</td>\n",
       "      <td>3.0</td>\n",
       "    </tr>\n",
       "    <tr>\n",
       "      <th>1</th>\n",
       "      <td>28000000</td>\n",
       "      <td>Shital Height</td>\n",
       "      <td>126.759</td>\n",
       "      <td>West</td>\n",
       "      <td>5.0</td>\n",
       "      <td>4.0</td>\n",
       "      <td>2.0</td>\n",
       "      <td>4.0</td>\n",
       "      <td>2.0</td>\n",
       "      <td>13.0</td>\n",
       "      <td>Semi Furnished</td>\n",
       "      <td>3.5</td>\n",
       "    </tr>\n",
       "    <tr>\n",
       "      <th>5</th>\n",
       "      <td>40000000</td>\n",
       "      <td>Shital height</td>\n",
       "      <td>169.012</td>\n",
       "      <td>North</td>\n",
       "      <td>6.0</td>\n",
       "      <td>4.0</td>\n",
       "      <td>2.0</td>\n",
       "      <td>2.0</td>\n",
       "      <td>4.0</td>\n",
       "      <td>13.0</td>\n",
       "      <td>Full Furnished</td>\n",
       "      <td>2.5</td>\n",
       "    </tr>\n",
       "    <tr>\n",
       "      <th>6</th>\n",
       "      <td>28000000</td>\n",
       "      <td>Bhaisepati</td>\n",
       "      <td>169.012</td>\n",
       "      <td>South</td>\n",
       "      <td>6.0</td>\n",
       "      <td>3.0</td>\n",
       "      <td>2.0</td>\n",
       "      <td>2.0</td>\n",
       "      <td>4.0</td>\n",
       "      <td>16.0</td>\n",
       "      <td>Full Furnished</td>\n",
       "      <td>2.5</td>\n",
       "    </tr>\n",
       "    <tr>\n",
       "      <th>7</th>\n",
       "      <td>40000000</td>\n",
       "      <td>Harisiddhi</td>\n",
       "      <td>295.771</td>\n",
       "      <td>East</td>\n",
       "      <td>6.0</td>\n",
       "      <td>4.0</td>\n",
       "      <td>2.0</td>\n",
       "      <td>2.0</td>\n",
       "      <td>4.0</td>\n",
       "      <td>13.0</td>\n",
       "      <td>Full Furnished</td>\n",
       "      <td>2.5</td>\n",
       "    </tr>\n",
       "  </tbody>\n",
       "</table>\n",
       "</div>"
      ],
      "text/plain": [
       "      price       location     area facing  no_of_bedroom  no_of_bathroom  \\\n",
       "0  32000000  Shital height  169.539   East            5.0             4.0   \n",
       "1  28000000  Shital Height  126.759   West            5.0             4.0   \n",
       "5  40000000  Shital height  169.012  North            6.0             4.0   \n",
       "6  28000000     Bhaisepati  169.012  South            6.0             3.0   \n",
       "7  40000000     Harisiddhi  295.771   East            6.0             4.0   \n",
       "\n",
       "   no_of_livingroom  no_of_kitchen parking  road_size       furniture  floors  \n",
       "0               2.0            3.0     4.0       13.0  Semi Furnished     3.0  \n",
       "1               2.0            4.0     2.0       13.0  Semi Furnished     3.5  \n",
       "5               2.0            2.0     4.0       13.0  Full Furnished     2.5  \n",
       "6               2.0            2.0     4.0       16.0  Full Furnished     2.5  \n",
       "7               2.0            2.0     4.0       13.0  Full Furnished     2.5  "
      ]
     },
     "execution_count": 93,
     "metadata": {},
     "output_type": "execute_result"
    }
   ],
   "source": [
    "dataset.head()"
   ]
  },
  {
   "cell_type": "code",
   "execution_count": 88,
   "id": "44773f86-f7ed-4824-a4a6-fd60474198b3",
   "metadata": {},
   "outputs": [
    {
     "name": "stdout",
     "output_type": "stream",
     "text": [
      "<class 'pandas.core.frame.DataFrame'>\n",
      "Index: 1264 entries, 0 to 1165\n",
      "Data columns (total 12 columns):\n",
      " #   Column            Non-Null Count  Dtype  \n",
      "---  ------            --------------  -----  \n",
      " 0   price             1264 non-null   int64  \n",
      " 1   location          1264 non-null   object \n",
      " 2   area              1264 non-null   float64\n",
      " 3   facing            1264 non-null   object \n",
      " 4   no_of_bedroom     1264 non-null   float64\n",
      " 5   no_of_bathroom    1264 non-null   float64\n",
      " 6   no_of_livingroom  1264 non-null   float64\n",
      " 7   no_of_kitchen     1264 non-null   float64\n",
      " 8   parking           1264 non-null   object \n",
      " 9   road_size         1264 non-null   float64\n",
      " 10  furniture         244 non-null    object \n",
      " 11  floors            1014 non-null   float64\n",
      "dtypes: float64(7), int64(1), object(4)\n",
      "memory usage: 128.4+ KB\n"
     ]
    }
   ],
   "source": [
    "dataset.info()"
   ]
  },
  {
   "cell_type": "code",
   "execution_count": 95,
   "id": "54019ad8-6b29-4eef-adcf-3ec270f43936",
   "metadata": {},
   "outputs": [
    {
     "name": "stdout",
     "output_type": "stream",
     "text": [
      "The min price is:0\n",
      "The max price is:1100000000\n"
     ]
    }
   ],
   "source": [
    "print(f'The min price is:{dataset['price'].min()}')\n",
    "print(f'The max price is:{dataset['price'].max()}')"
   ]
  },
  {
   "cell_type": "code",
   "execution_count": 98,
   "id": "0c2a5e61-af77-4537-8a69-6830d8c004b8",
   "metadata": {},
   "outputs": [
    {
     "data": {
      "text/html": [
       "<div>\n",
       "<style scoped>\n",
       "    .dataframe tbody tr th:only-of-type {\n",
       "        vertical-align: middle;\n",
       "    }\n",
       "\n",
       "    .dataframe tbody tr th {\n",
       "        vertical-align: top;\n",
       "    }\n",
       "\n",
       "    .dataframe thead th {\n",
       "        text-align: right;\n",
       "    }\n",
       "</style>\n",
       "<table border=\"1\" class=\"dataframe\">\n",
       "  <thead>\n",
       "    <tr style=\"text-align: right;\">\n",
       "      <th></th>\n",
       "      <th>price</th>\n",
       "      <th>location</th>\n",
       "      <th>area</th>\n",
       "      <th>facing</th>\n",
       "      <th>no_of_bedroom</th>\n",
       "      <th>no_of_bathroom</th>\n",
       "      <th>no_of_livingroom</th>\n",
       "      <th>no_of_kitchen</th>\n",
       "      <th>parking</th>\n",
       "      <th>road_size</th>\n",
       "      <th>furniture</th>\n",
       "      <th>floors</th>\n",
       "    </tr>\n",
       "  </thead>\n",
       "  <tbody>\n",
       "    <tr>\n",
       "      <th>97</th>\n",
       "      <td>0</td>\n",
       "      <td>Pasikot</td>\n",
       "      <td>253.5180</td>\n",
       "      <td>South</td>\n",
       "      <td>6.0</td>\n",
       "      <td>5.0</td>\n",
       "      <td>2.0</td>\n",
       "      <td>2.0</td>\n",
       "      <td>15</td>\n",
       "      <td>20.0</td>\n",
       "      <td>NaN</td>\n",
       "      <td>2.5</td>\n",
       "    </tr>\n",
       "    <tr>\n",
       "      <th>98</th>\n",
       "      <td>0</td>\n",
       "      <td>Hattigauda</td>\n",
       "      <td>257.7433</td>\n",
       "      <td>West</td>\n",
       "      <td>5.0</td>\n",
       "      <td>6.0</td>\n",
       "      <td>2.0</td>\n",
       "      <td>2.0</td>\n",
       "      <td>15</td>\n",
       "      <td>20.0</td>\n",
       "      <td>NaN</td>\n",
       "      <td>2.5</td>\n",
       "    </tr>\n",
       "    <tr>\n",
       "      <th>21</th>\n",
       "      <td>0</td>\n",
       "      <td>Bhaisepati</td>\n",
       "      <td>295.7710</td>\n",
       "      <td>South</td>\n",
       "      <td>5.0</td>\n",
       "      <td>6.0</td>\n",
       "      <td>2.0</td>\n",
       "      <td>2.0</td>\n",
       "      <td>15</td>\n",
       "      <td>20.0</td>\n",
       "      <td>NaN</td>\n",
       "      <td>2.5</td>\n",
       "    </tr>\n",
       "    <tr>\n",
       "      <th>91</th>\n",
       "      <td>0</td>\n",
       "      <td>Bhaisepati</td>\n",
       "      <td>211.2650</td>\n",
       "      <td>South</td>\n",
       "      <td>6.0</td>\n",
       "      <td>4.0</td>\n",
       "      <td>2.0</td>\n",
       "      <td>2.0</td>\n",
       "      <td>14</td>\n",
       "      <td>13.0</td>\n",
       "      <td>NaN</td>\n",
       "      <td>3.0</td>\n",
       "    </tr>\n",
       "    <tr>\n",
       "      <th>122</th>\n",
       "      <td>0</td>\n",
       "      <td>Hattigauda</td>\n",
       "      <td>87616.0000</td>\n",
       "      <td>East</td>\n",
       "      <td>5.0</td>\n",
       "      <td>8.0</td>\n",
       "      <td>2.0</td>\n",
       "      <td>1.0</td>\n",
       "      <td>16</td>\n",
       "      <td>13.0</td>\n",
       "      <td>NaN</td>\n",
       "      <td>2.5</td>\n",
       "    </tr>\n",
       "    <tr>\n",
       "      <th>832</th>\n",
       "      <td>3200000</td>\n",
       "      <td>near</td>\n",
       "      <td>1275.7500</td>\n",
       "      <td>East</td>\n",
       "      <td>1.0</td>\n",
       "      <td>1.0</td>\n",
       "      <td>1.0</td>\n",
       "      <td>2.0</td>\n",
       "      <td>0</td>\n",
       "      <td>13.0</td>\n",
       "      <td>NaN</td>\n",
       "      <td>1.0</td>\n",
       "    </tr>\n",
       "    <tr>\n",
       "      <th>773</th>\n",
       "      <td>3200000</td>\n",
       "      <td>Buddhanagar</td>\n",
       "      <td>1200.0000</td>\n",
       "      <td>East</td>\n",
       "      <td>2.0</td>\n",
       "      <td>2.0</td>\n",
       "      <td>4.0</td>\n",
       "      <td>2.0</td>\n",
       "      <td>0</td>\n",
       "      <td>20.0</td>\n",
       "      <td>NaN</td>\n",
       "      <td>1.0</td>\n",
       "    </tr>\n",
       "    <tr>\n",
       "      <th>742</th>\n",
       "      <td>4000000</td>\n",
       "      <td>Thasikhel</td>\n",
       "      <td>297.3520</td>\n",
       "      <td>West</td>\n",
       "      <td>6.0</td>\n",
       "      <td>2.0</td>\n",
       "      <td>9.0</td>\n",
       "      <td>2.0</td>\n",
       "      <td>0</td>\n",
       "      <td>3.5</td>\n",
       "      <td>NaN</td>\n",
       "      <td>2.0</td>\n",
       "    </tr>\n",
       "    <tr>\n",
       "      <th>740</th>\n",
       "      <td>4000000</td>\n",
       "      <td>26.7102432,</td>\n",
       "      <td>1800.0000</td>\n",
       "      <td>East</td>\n",
       "      <td>3.0</td>\n",
       "      <td>1.0</td>\n",
       "      <td>1.0</td>\n",
       "      <td>1.0</td>\n",
       "      <td>6</td>\n",
       "      <td>16.0</td>\n",
       "      <td>NaN</td>\n",
       "      <td>1.0</td>\n",
       "    </tr>\n",
       "    <tr>\n",
       "      <th>1069</th>\n",
       "      <td>4200000</td>\n",
       "      <td>Makwanpur</td>\n",
       "      <td>1200.0000</td>\n",
       "      <td>East</td>\n",
       "      <td>4.0</td>\n",
       "      <td>1.0</td>\n",
       "      <td>3.0</td>\n",
       "      <td>2.0</td>\n",
       "      <td>0</td>\n",
       "      <td>13.0</td>\n",
       "      <td>NaN</td>\n",
       "      <td>1.0</td>\n",
       "    </tr>\n",
       "  </tbody>\n",
       "</table>\n",
       "</div>"
      ],
      "text/plain": [
       "        price     location        area facing  no_of_bedroom  no_of_bathroom  \\\n",
       "97          0      Pasikot    253.5180  South            6.0             5.0   \n",
       "98          0   Hattigauda    257.7433   West            5.0             6.0   \n",
       "21          0   Bhaisepati    295.7710  South            5.0             6.0   \n",
       "91          0   Bhaisepati    211.2650  South            6.0             4.0   \n",
       "122         0   Hattigauda  87616.0000   East            5.0             8.0   \n",
       "832   3200000         near   1275.7500   East            1.0             1.0   \n",
       "773   3200000  Buddhanagar   1200.0000   East            2.0             2.0   \n",
       "742   4000000    Thasikhel    297.3520   West            6.0             2.0   \n",
       "740   4000000  26.7102432,   1800.0000   East            3.0             1.0   \n",
       "1069  4200000    Makwanpur   1200.0000   East            4.0             1.0   \n",
       "\n",
       "      no_of_livingroom  no_of_kitchen parking  road_size furniture  floors  \n",
       "97                 2.0            2.0      15       20.0       NaN     2.5  \n",
       "98                 2.0            2.0      15       20.0       NaN     2.5  \n",
       "21                 2.0            2.0      15       20.0       NaN     2.5  \n",
       "91                 2.0            2.0      14       13.0       NaN     3.0  \n",
       "122                2.0            1.0      16       13.0       NaN     2.5  \n",
       "832                1.0            2.0       0       13.0       NaN     1.0  \n",
       "773                4.0            2.0       0       20.0       NaN     1.0  \n",
       "742                9.0            2.0       0        3.5       NaN     2.0  \n",
       "740                1.0            1.0       6       16.0       NaN     1.0  \n",
       "1069               3.0            2.0       0       13.0       NaN     1.0  "
      ]
     },
     "execution_count": 98,
     "metadata": {},
     "output_type": "execute_result"
    }
   ],
   "source": [
    "dataset.sort_values(by='price')[:10]"
   ]
  },
  {
   "cell_type": "code",
   "execution_count": 99,
   "id": "3b2706cf-77ea-45db-8f1d-0c83705265f7",
   "metadata": {},
   "outputs": [
    {
     "data": {
      "text/html": [
       "<div>\n",
       "<style scoped>\n",
       "    .dataframe tbody tr th:only-of-type {\n",
       "        vertical-align: middle;\n",
       "    }\n",
       "\n",
       "    .dataframe tbody tr th {\n",
       "        vertical-align: top;\n",
       "    }\n",
       "\n",
       "    .dataframe thead th {\n",
       "        text-align: right;\n",
       "    }\n",
       "</style>\n",
       "<table border=\"1\" class=\"dataframe\">\n",
       "  <thead>\n",
       "    <tr style=\"text-align: right;\">\n",
       "      <th></th>\n",
       "      <th>price</th>\n",
       "      <th>location</th>\n",
       "      <th>area</th>\n",
       "      <th>facing</th>\n",
       "      <th>no_of_bedroom</th>\n",
       "      <th>no_of_bathroom</th>\n",
       "      <th>no_of_livingroom</th>\n",
       "      <th>no_of_kitchen</th>\n",
       "      <th>parking</th>\n",
       "      <th>road_size</th>\n",
       "      <th>furniture</th>\n",
       "      <th>floors</th>\n",
       "    </tr>\n",
       "  </thead>\n",
       "  <tbody>\n",
       "    <tr>\n",
       "      <th>385</th>\n",
       "      <td>190000000</td>\n",
       "      <td>Rudreshwor</td>\n",
       "      <td>10952.0000</td>\n",
       "      <td>South</td>\n",
       "      <td>5.0</td>\n",
       "      <td>5.0</td>\n",
       "      <td>2.0</td>\n",
       "      <td>1.0</td>\n",
       "      <td>1</td>\n",
       "      <td>13.0</td>\n",
       "      <td>NaN</td>\n",
       "      <td>1.0</td>\n",
       "    </tr>\n",
       "    <tr>\n",
       "      <th>996</th>\n",
       "      <td>200000000</td>\n",
       "      <td>Old</td>\n",
       "      <td>5602.7590</td>\n",
       "      <td>West</td>\n",
       "      <td>8.0</td>\n",
       "      <td>5.0</td>\n",
       "      <td>1.0</td>\n",
       "      <td>2.0</td>\n",
       "      <td>0</td>\n",
       "      <td>20.0</td>\n",
       "      <td>NaN</td>\n",
       "      <td>3.5</td>\n",
       "    </tr>\n",
       "    <tr>\n",
       "      <th>670</th>\n",
       "      <td>230000000</td>\n",
       "      <td>Dhapasi</td>\n",
       "      <td>1014.0720</td>\n",
       "      <td>East</td>\n",
       "      <td>12.0</td>\n",
       "      <td>0.0</td>\n",
       "      <td>15.0</td>\n",
       "      <td>2.0</td>\n",
       "      <td>0</td>\n",
       "      <td>40.0</td>\n",
       "      <td>NaN</td>\n",
       "      <td>4.0</td>\n",
       "    </tr>\n",
       "    <tr>\n",
       "      <th>668</th>\n",
       "      <td>252000000</td>\n",
       "      <td>Baneshwor</td>\n",
       "      <td>1183.0840</td>\n",
       "      <td>East</td>\n",
       "      <td>4.0</td>\n",
       "      <td>4.0</td>\n",
       "      <td>1.0</td>\n",
       "      <td>2.0</td>\n",
       "      <td>0</td>\n",
       "      <td>13.0</td>\n",
       "      <td>NaN</td>\n",
       "      <td>2.5</td>\n",
       "    </tr>\n",
       "    <tr>\n",
       "      <th>515</th>\n",
       "      <td>260000000</td>\n",
       "      <td>Mudkhu</td>\n",
       "      <td>71188.0000</td>\n",
       "      <td>North</td>\n",
       "      <td>5.0</td>\n",
       "      <td>3.0</td>\n",
       "      <td>2.0</td>\n",
       "      <td>1.0</td>\n",
       "      <td>1</td>\n",
       "      <td>20.0</td>\n",
       "      <td>NaN</td>\n",
       "      <td>1.0</td>\n",
       "    </tr>\n",
       "    <tr>\n",
       "      <th>48</th>\n",
       "      <td>268000000</td>\n",
       "      <td>Baluwatar near Nepal Rastra Bank</td>\n",
       "      <td>1014.0720</td>\n",
       "      <td>East</td>\n",
       "      <td>5.0</td>\n",
       "      <td>6.0</td>\n",
       "      <td>1.0</td>\n",
       "      <td>2.0</td>\n",
       "      <td>1.0</td>\n",
       "      <td>13.0</td>\n",
       "      <td>Semi Furnished</td>\n",
       "      <td>2.5</td>\n",
       "    </tr>\n",
       "    <tr>\n",
       "      <th>1146</th>\n",
       "      <td>350000000</td>\n",
       "      <td>Dillibazar,</td>\n",
       "      <td>1500.0000</td>\n",
       "      <td>South</td>\n",
       "      <td>7.0</td>\n",
       "      <td>3.0</td>\n",
       "      <td>1.0</td>\n",
       "      <td>2.0</td>\n",
       "      <td>0</td>\n",
       "      <td>10.0</td>\n",
       "      <td>NaN</td>\n",
       "      <td>3.0</td>\n",
       "    </tr>\n",
       "    <tr>\n",
       "      <th>1042</th>\n",
       "      <td>391000000</td>\n",
       "      <td>Maitidevi</td>\n",
       "      <td>1436.6020</td>\n",
       "      <td>East</td>\n",
       "      <td>1.0</td>\n",
       "      <td>1.0</td>\n",
       "      <td>1.0</td>\n",
       "      <td>2.0</td>\n",
       "      <td>0</td>\n",
       "      <td>13.0</td>\n",
       "      <td>NaN</td>\n",
       "      <td>1.0</td>\n",
       "    </tr>\n",
       "    <tr>\n",
       "      <th>1003</th>\n",
       "      <td>750000000</td>\n",
       "      <td>Duwakot</td>\n",
       "      <td>130.9843</td>\n",
       "      <td>South</td>\n",
       "      <td>4.0</td>\n",
       "      <td>1.0</td>\n",
       "      <td>4.0</td>\n",
       "      <td>2.0</td>\n",
       "      <td>0</td>\n",
       "      <td>10.0</td>\n",
       "      <td>NaN</td>\n",
       "      <td>1.0</td>\n",
       "    </tr>\n",
       "    <tr>\n",
       "      <th>636</th>\n",
       "      <td>1100000000</td>\n",
       "      <td>Akasay</td>\n",
       "      <td>16.0000</td>\n",
       "      <td>East</td>\n",
       "      <td>3.0</td>\n",
       "      <td>3.0</td>\n",
       "      <td>1.0</td>\n",
       "      <td>2.0</td>\n",
       "      <td>0</td>\n",
       "      <td>13.0</td>\n",
       "      <td>NaN</td>\n",
       "      <td>3.0</td>\n",
       "    </tr>\n",
       "  </tbody>\n",
       "</table>\n",
       "</div>"
      ],
      "text/plain": [
       "           price                          location        area facing  \\\n",
       "385    190000000                        Rudreshwor  10952.0000  South   \n",
       "996    200000000                               Old   5602.7590   West   \n",
       "670    230000000                           Dhapasi   1014.0720   East   \n",
       "668    252000000                         Baneshwor   1183.0840   East   \n",
       "515    260000000                            Mudkhu  71188.0000  North   \n",
       "48     268000000  Baluwatar near Nepal Rastra Bank   1014.0720   East   \n",
       "1146   350000000                       Dillibazar,   1500.0000  South   \n",
       "1042   391000000                         Maitidevi   1436.6020   East   \n",
       "1003   750000000                           Duwakot    130.9843  South   \n",
       "636   1100000000                            Akasay     16.0000   East   \n",
       "\n",
       "      no_of_bedroom  no_of_bathroom  no_of_livingroom  no_of_kitchen parking  \\\n",
       "385             5.0             5.0               2.0            1.0       1   \n",
       "996             8.0             5.0               1.0            2.0       0   \n",
       "670            12.0             0.0              15.0            2.0       0   \n",
       "668             4.0             4.0               1.0            2.0       0   \n",
       "515             5.0             3.0               2.0            1.0       1   \n",
       "48              5.0             6.0               1.0            2.0     1.0   \n",
       "1146            7.0             3.0               1.0            2.0       0   \n",
       "1042            1.0             1.0               1.0            2.0       0   \n",
       "1003            4.0             1.0               4.0            2.0       0   \n",
       "636             3.0             3.0               1.0            2.0       0   \n",
       "\n",
       "      road_size       furniture  floors  \n",
       "385        13.0             NaN     1.0  \n",
       "996        20.0             NaN     3.5  \n",
       "670        40.0             NaN     4.0  \n",
       "668        13.0             NaN     2.5  \n",
       "515        20.0             NaN     1.0  \n",
       "48         13.0  Semi Furnished     2.5  \n",
       "1146       10.0             NaN     3.0  \n",
       "1042       13.0             NaN     1.0  \n",
       "1003       10.0             NaN     1.0  \n",
       "636        13.0             NaN     3.0  "
      ]
     },
     "execution_count": 99,
     "metadata": {},
     "output_type": "execute_result"
    }
   ],
   "source": [
    "dataset.sort_values(by='price')[-10:]"
   ]
  },
  {
   "cell_type": "code",
   "execution_count": 100,
   "id": "1cf4810f-85ff-486d-b7f9-963a19ea26e7",
   "metadata": {},
   "outputs": [],
   "source": [
    "dataset.to_csv('Housing_dataset_nepal.csv')"
   ]
  },
  {
   "cell_type": "code",
   "execution_count": null,
   "id": "e4df6a22-5f9a-4ede-a01a-e64e75cf5ee6",
   "metadata": {},
   "outputs": [],
   "source": []
  }
 ],
 "metadata": {
  "kernelspec": {
   "display_name": "Python 3 (ipykernel)",
   "language": "python",
   "name": "python3"
  },
  "language_info": {
   "codemirror_mode": {
    "name": "ipython",
    "version": 3
   },
   "file_extension": ".py",
   "mimetype": "text/x-python",
   "name": "python",
   "nbconvert_exporter": "python",
   "pygments_lexer": "ipython3",
   "version": "3.12.6"
  }
 },
 "nbformat": 4,
 "nbformat_minor": 5
}
